{
 "cells": [
  {
   "cell_type": "markdown",
   "metadata": {},
   "source": [
    "# Qasm - Imports"
   ]
  },
  {
   "cell_type": "markdown",
   "metadata": {},
   "source": [
    "This notebook elaborates the [OpenQASM](https://github.com/Qiskit/openqasm) import and export functions. It can also serve as a short introduction to the QASM format."
   ]
  },
  {
   "cell_type": "code",
   "execution_count": 1,
   "metadata": {},
   "outputs": [],
   "source": [
    "from qutip.qip.qasm import read_qasm"
   ]
  },
  {
   "cell_type": "markdown",
   "metadata": {},
   "source": [
    "The process for is quite simple and only requires the user to store the .qasm file in an appropriate location and maintain the absolute path of the file. This will make it simple for us to read the file. \n",
    "Let's start off with a simple qasm file."
   ]
  },
  {
   "cell_type": "code",
   "execution_count": 2,
   "metadata": {},
   "outputs": [
    {
     "name": "stdout",
     "output_type": "stream",
     "text": [
      "// SWAP gate impemented in terms of cx's\n",
      "\n",
      "OPENQASM 2.0;\n",
      "include \"qelib1.inc\";\n",
      "\n",
      "qreg q[2];\n",
      "\n",
      "cx q[1], q[0];\n",
      "cx q[0], q[1];\n",
      "cx q[1], q[0];\n",
      "\n"
     ]
    }
   ],
   "source": [
    "path = \"qasm_files/swap.qasm\"\n",
    "qasm_file = open(path, \"r\")\n",
    "print(qasm_file.read())"
   ]
  },
  {
   "cell_type": "markdown",
   "metadata": {},
   "source": [
    "This QASM file imitates the iSWAP gate native to QuTiP in the QASM format. To read it, we use the `read_qasm` function with the arguments being the file path, the `mode` which defaults to qiskit and the `version` which defaults to \"2.0\".  "
   ]
  },
  {
   "cell_type": "markdown",
   "metadata": {},
   "source": [
    "qc = read_qasm(path, mode=\"qiskit\", version=\"2.0\")"
   ]
  },
  {
   "cell_type": "markdown",
   "metadata": {},
   "source": [
    "We can now check that the circuit indeed implements the swap gate by checking the unitary matrix corresponding\n",
    "to the circuit. This can be done by using the `gate_sequence_product` function and the `propagators` function of the \n",
    "`QubitCircuit` class. "
   ]
  },
  {
   "cell_type": "code",
   "execution_count": 3,
   "metadata": {},
   "outputs": [
    {
     "data": {
      "text/latex": [
       "Quantum object: dims = [[2, 2], [2, 2]], shape = (4, 4), type = oper, isherm = True\\begin{equation*}\\left(\\begin{array}{*{11}c}1.0 & 0.0 & 0.0 & 0.0\\\\0.0 & 0.0 & 1.0 & 0.0\\\\0.0 & 1.0 & 0.0 & 0.0\\\\0.0 & 0.0 & 0.0 & 1.0\\\\\\end{array}\\right)\\end{equation*}"
      ],
      "text/plain": [
       "Quantum object: dims = [[2, 2], [2, 2]], shape = (4, 4), type = oper, isherm = True\n",
       "Qobj data =\n",
       "[[1. 0. 0. 0.]\n",
       " [0. 0. 1. 0.]\n",
       " [0. 1. 0. 0.]\n",
       " [0. 0. 0. 1.]]"
      ]
     },
     "execution_count": 3,
     "metadata": {},
     "output_type": "execute_result"
    }
   ],
   "source": [
    "from qutip.qip.operations.gates import gate_sequence_product\n",
    "from qutip import tensor, basis\n",
    "\n",
    "qc = read_qasm(path, mode=\"qiskit\", version=\"2.0\")\n",
    "gate_sequence_product(qc.propagators()) "
   ]
  },
  {
   "cell_type": "markdown",
   "metadata": {},
   "source": [
    "The `mode` refers to the internal way in which QuTiP processes the QASM files. \n",
    "With qiskit mode, QASM skips the include command for the file qelib1.inc and converts all custom gates specified in them directly into QuTiP gates. It is recommended to use the QASM import function in this mode. \n",
    "\n",
    "The `version` refers to the version of the OpenQASM standard being processed. The documentation for the same can be found in the [OpenQASM](https://github.com/Qiskit/openqasm) repository. Currently, only OpenQASM 2.0 is supported which is the most popular QASM standard. "
   ]
  },
  {
   "cell_type": "markdown",
   "metadata": {},
   "source": [
    "### Custom Gates\n",
    "\n",
    "QASM also offers the option to define custom gates in terms of already defined gates using the \"gate\" keyword. In qiskit mode, our QASM interpreter can be assumed to already allow for all the gates defined in the file [qelib1.inc](https://github.com/Qiskit/openqasm/blob/master/examples/generic/qelib1.inc) provided by the OpenQASM repository.\n",
    "\n",
    "In the file `swap_custom.qasm`, we define the `swap` gate in terms of the pre-defined `cx` gates."
   ]
  },
  {
   "cell_type": "code",
   "execution_count": 4,
   "metadata": {},
   "outputs": [
    {
     "name": "stdout",
     "output_type": "stream",
     "text": [
      "// SWAP gate defined as a custom gate.\n",
      "\n",
      "OPENQASM 2.0;\n",
      "include \"qelib1.inc\";\n",
      "\n",
      "qreg q[2];\n",
      "creg c[2];\n",
      "\n",
      "gate swap a, b{\n",
      "cx b, a;\n",
      "cx a, b;\n",
      "cx b, a;\n",
      "}\n",
      "\n",
      "swap q[0], q[1]\n",
      "\n",
      "measure q -> c\n",
      "\n"
     ]
    }
   ],
   "source": [
    "path = \"qasm_files/swap_custom.qasm\"\n",
    "qasm_file = open(path, \"r\")\n",
    "print(qasm_file.read())"
   ]
  },
  {
   "cell_type": "markdown",
   "metadata": {},
   "source": [
    "Furthermore, the circuit also measures the two qubits q[0] and q[1] and stores the results in the classical registers c[0] and c[1]"
   ]
  },
  {
   "cell_type": "code",
   "execution_count": 5,
   "metadata": {},
   "outputs": [],
   "source": [
    "qc = read_qasm(path)"
   ]
  },
  {
   "cell_type": "markdown",
   "metadata": {},
   "source": [
    "We can now run the circuit to confirm that the circuit is correctly loaded and performs the correct operations. To do this, we can use the `QubitCircuit.run` function with the appropriate input state. In our case, we can take the state `|01⟩`. "
   ]
  },
  {
   "cell_type": "code",
   "execution_count": 6,
   "metadata": {},
   "outputs": [
    {
     "data": {
      "text/plain": [
       "(Quantum object: dims = [[2, 2], [1, 1]], shape = (4, 1), type = ket\n",
       " Qobj data =\n",
       " [[0.]\n",
       "  [0.]\n",
       "  [1.]\n",
       "  [0.]], 1.0)"
      ]
     },
     "execution_count": 6,
     "metadata": {},
     "output_type": "execute_result"
    }
   ],
   "source": [
    "from qutip import tensor, basis\n",
    "\n",
    "qc.run(tensor(basis(2, 0), basis(2, 1)))"
   ]
  },
  {
   "cell_type": "markdown",
   "metadata": {},
   "source": [
    "As predicted the output is the state after swapping which is `|10⟩`"
   ]
  }
 ],
 "metadata": {
  "kernelspec": {
   "display_name": "Python 3",
   "language": "python",
   "name": "python3"
  },
  "language_info": {
   "codemirror_mode": {
    "name": "ipython",
    "version": 3
   },
   "file_extension": ".py",
   "mimetype": "text/x-python",
   "name": "python",
   "nbconvert_exporter": "python",
   "pygments_lexer": "ipython3",
   "version": "3.7.4"
  }
 },
 "nbformat": 4,
 "nbformat_minor": 2
}
