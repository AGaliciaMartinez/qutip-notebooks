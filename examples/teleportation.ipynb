{
 "cells": [
  {
   "cell_type": "markdown",
   "metadata": {},
   "source": [
    "# Quantum Teleportation Circuit"
   ]
  },
  {
   "cell_type": "code",
   "execution_count": 1,
   "metadata": {},
   "outputs": [],
   "source": [
    "from qutip.qip.circuit import QubitCircuit, Measurement, Gate\n",
    "from qutip import basis, tensor, identity\n",
    "from math import sqrt"
   ]
  },
  {
   "cell_type": "markdown",
   "metadata": {},
   "source": [
    "## Introduction \n",
    "\n",
    "This notebook introduces the basic quantum teleportation circuit (http://www.physics.udel.edu/~msafrono/425-2011/Lecture%2025-1.pdf), complete with measurements and classical control. This notebook also serves as an example on how to add measurement gates and classical controls to a circuit.\n",
    "\n",
    "We will describe the circuit that enables teleportation below. "
   ]
  },
  {
   "cell_type": "markdown",
   "metadata": {
    "raw_mimetype": "text/latex"
   },
   "source": [
    "We will use two classical wires and three qubit wires. The first qubit wire represents the quantum state $| q0 ⟩ = | \\psi ⟩$ that needs to be transferred from Alice to Bob (so the first qubit is in the posession of Alice). "
   ]
  },
  {
   "cell_type": "code",
   "execution_count": 2,
   "metadata": {},
   "outputs": [],
   "source": [
    "teleportation = QubitCircuit(3, num_cbits = 2, input_states = [\"q0\", \"0\", \"0\", \"c0\", \"c1\"])"
   ]
  },
  {
   "cell_type": "markdown",
   "metadata": {},
   "source": [
    "First, Alice and Bob need to create the shared EPR pair ($\\frac{| 00 ⟩ + | 11 ⟩} {2}$) between the second and third qubit by using the hadamard gate on Alice's qubit followed by an entangling CNOT gate.  "
   ]
  },
  {
   "cell_type": "code",
   "execution_count": 3,
   "metadata": {},
   "outputs": [],
   "source": [
    "teleportation.add_gate(\"SNOT\", targets=[1])\n",
    "teleportation.add_gate(\"CNOT\", targets=[2], controls=[1])"
   ]
  },
  {
   "cell_type": "markdown",
   "metadata": {},
   "source": [
    "Following this, Alice interacts the qubit $| q0 ⟩$ with Alice's EPR qubit, followed by measuring on the two qubits belonging to Alice. The measurement results for the first qubit is stored in classical register $c1$ and the second qubit is stored in classical register $c0$."
   ]
  },
  {
   "cell_type": "code",
   "execution_count": 4,
   "metadata": {},
   "outputs": [],
   "source": [
    "teleportation.add_gate(\"CNOT\", targets=[1], controls=[0])\n",
    "teleportation.add_gate(\"SNOT\", targets=[0])\n",
    "\n",
    "teleportation.add_measurement(\"M0\", targets=[0], classical_store=1)\n",
    "teleportation.add_measurement(\"M1\", targets=[1], classical_store=0)"
   ]
  },
  {
   "cell_type": "markdown",
   "metadata": {},
   "source": [
    "Now, we apply the $X$ gate on Bob's qubit based on the classical control $c0$ and $Z$ gate based on classical control $c1$. These operations correspond to the following operations based on the state of Alice's measurement. \n",
    "\n",
    "$|00⟩ \\rightarrow $ no operation \\\n",
    "$|01⟩ \\rightarrow Z$ \\\n",
    "$|10⟩ \\rightarrow X$ \\\n",
    "$|11⟩ \\rightarrow ZX$ \n",
    "\n",
    "The final circuit mathematically must result in the third qubit taking the state $|\\psi⟩$. "
   ]
  },
  {
   "cell_type": "code",
   "execution_count": 5,
   "metadata": {},
   "outputs": [],
   "source": [
    "teleportation.add_gate(\"X\", targets=[2], classical_controls=[0])\n",
    "teleportation.add_gate(\"Z\", targets=[2], classical_controls=[1])"
   ]
  },
  {
   "cell_type": "markdown",
   "metadata": {},
   "source": [
    "Finally, our teleportation circuit is ready to run, we can view the circuit structure using the following command. "
   ]
  },
  {
   "cell_type": "code",
   "execution_count": 6,
   "metadata": {},
   "outputs": [
    {
     "data": {
      "text/plain": [
       "[Gate(SNOT, targets=[1], controls=None, classical controls=None),\n",
       " Gate(CNOT, targets=[2], controls=[1], classical controls=None),\n",
       " Gate(CNOT, targets=[1], controls=[0], classical controls=None),\n",
       " Gate(SNOT, targets=[0], controls=None, classical controls=None),\n",
       " Measurement(M0, target=[0], classical_store=1),\n",
       " Measurement(M1, target=[1], classical_store=0),\n",
       " Gate(X, targets=[2], controls=None, classical controls=[0]),\n",
       " Gate(Z, targets=[2], controls=None, classical controls=[1])]"
      ]
     },
     "execution_count": 6,
     "metadata": {},
     "output_type": "execute_result"
    }
   ],
   "source": [
    "teleportation.gates"
   ]
  },
  {
   "cell_type": "markdown",
   "metadata": {},
   "source": [
    "The circuit can also be visualized:"
   ]
  },
  {
   "cell_type": "code",
   "execution_count": 7,
   "metadata": {},
   "outputs": [
    {
     "data": {
      "image/png": "[encoded data removed]",
      "image/svg+xml": [
       "<?xml version=\"1.0\" encoding=\"UTF-8\"?>\n",
       "<svg xmlns=\"http://www.w3.org/2000/svg\" xmlns:xlink=\"http://www.w3.org/1999/xlink\" width=\"384pt\" height=\"159pt\" viewBox=\"0 0 384 159\" version=\"1.1\">\n",
       "<defs>\n",
       "<g>\n",
       "<symbol overflow=\"visible\" id=\"glyph0-0\">\n",
       "<path style=\"stroke:none;\" d=\"\"/>\n",
       "</symbol>\n",
       "<symbol overflow=\"visible\" id=\"glyph0-1\">\n",
       "<path style=\"stroke:none;\" d=\"M 3.953125 -3.78125 C 3.78125 -3.78125 3.65625 -3.78125 3.515625 -3.65625 C 3.34375 -3.5 3.328125 -3.328125 3.328125 -3.265625 C 3.328125 -3.015625 3.515625 -2.90625 3.703125 -2.90625 C 3.984375 -2.90625 4.25 -3.15625 4.25 -3.546875 C 4.25 -4.03125 3.78125 -4.40625 3.078125 -4.40625 C 1.734375 -4.40625 0.40625 -2.984375 0.40625 -1.578125 C 0.40625 -0.671875 0.984375 0.109375 2.03125 0.109375 C 3.453125 0.109375 4.28125 -0.953125 4.28125 -1.0625 C 4.28125 -1.125 4.234375 -1.203125 4.171875 -1.203125 C 4.109375 -1.203125 4.09375 -1.171875 4.03125 -1.09375 C 3.25 -0.109375 2.15625 -0.109375 2.046875 -0.109375 C 1.421875 -0.109375 1.140625 -0.59375 1.140625 -1.203125 C 1.140625 -1.609375 1.34375 -2.578125 1.6875 -3.1875 C 2 -3.765625 2.546875 -4.1875 3.09375 -4.1875 C 3.421875 -4.1875 3.8125 -4.0625 3.953125 -3.78125 Z M 3.953125 -3.78125 \"/>\n",
       "</symbol>\n",
       "<symbol overflow=\"visible\" id=\"glyph0-2\">\n",
       "<path style=\"stroke:none;\" d=\"M 4.828125 -4.09375 L 4 -6.078125 C 3.96875 -6.15625 3.953125 -6.203125 3.953125 -6.203125 C 3.953125 -6.265625 4.109375 -6.453125 4.53125 -6.5 C 4.640625 -6.515625 4.734375 -6.515625 4.734375 -6.6875 C 4.734375 -6.8125 4.609375 -6.8125 4.578125 -6.8125 C 4.171875 -6.8125 3.75 -6.78125 3.328125 -6.78125 C 3.078125 -6.78125 2.46875 -6.8125 2.21875 -6.8125 C 2.15625 -6.8125 2.03125 -6.8125 2.03125 -6.609375 C 2.03125 -6.5 2.140625 -6.5 2.265625 -6.5 C 2.859375 -6.5 2.921875 -6.40625 3.015625 -6.1875 L 4.1875 -3.40625 L 2.078125 -1.140625 L 1.953125 -1.03125 C 1.46875 -0.5 1 -0.34375 0.484375 -0.3125 C 0.359375 -0.296875 0.265625 -0.296875 0.265625 -0.109375 C 0.265625 -0.09375 0.265625 0 0.40625 0 C 0.703125 0 1.03125 -0.03125 1.328125 -0.03125 C 1.703125 -0.03125 2.09375 0 2.453125 0 C 2.515625 0 2.625 0 2.625 -0.203125 C 2.625 -0.296875 2.53125 -0.3125 2.515625 -0.3125 C 2.421875 -0.3125 2.109375 -0.34375 2.109375 -0.625 C 2.109375 -0.78125 2.265625 -0.9375 2.375 -1.0625 L 3.40625 -2.140625 L 4.296875 -3.125 L 5.296875 -0.734375 C 5.34375 -0.625 5.359375 -0.625 5.359375 -0.59375 C 5.359375 -0.515625 5.15625 -0.34375 4.78125 -0.3125 C 4.671875 -0.296875 4.578125 -0.296875 4.578125 -0.125 C 4.578125 0 4.6875 0 4.71875 0 C 5 0 5.703125 -0.03125 5.984375 -0.03125 C 6.234375 -0.03125 6.84375 0 7.09375 0 C 7.15625 0 7.28125 0 7.28125 -0.1875 C 7.28125 -0.3125 7.171875 -0.3125 7.09375 -0.3125 C 6.4375 -0.3125 6.40625 -0.34375 6.234375 -0.75 C 5.859375 -1.671875 5.1875 -3.234375 4.953125 -3.828125 C 5.625 -4.53125 6.671875 -5.71875 7 -5.984375 C 7.28125 -6.234375 7.671875 -6.46875 8.265625 -6.5 C 8.390625 -6.515625 8.484375 -6.515625 8.484375 -6.703125 C 8.484375 -6.703125 8.484375 -6.8125 8.359375 -6.8125 C 8.0625 -6.8125 7.71875 -6.78125 7.421875 -6.78125 C 7.046875 -6.78125 6.671875 -6.8125 6.3125 -6.8125 C 6.25 -6.8125 6.125 -6.8125 6.125 -6.609375 C 6.125 -6.546875 6.171875 -6.515625 6.234375 -6.5 C 6.328125 -6.484375 6.640625 -6.46875 6.640625 -6.1875 C 6.640625 -6.046875 6.53125 -5.921875 6.453125 -5.828125 Z M 4.828125 -4.09375 \"/>\n",
       "</symbol>\n",
       "<symbol overflow=\"visible\" id=\"glyph0-3\">\n",
       "<path style=\"stroke:none;\" d=\"M 7.171875 -6.5625 C 7.1875 -6.609375 7.203125 -6.65625 7.203125 -6.71875 C 7.203125 -6.8125 7.15625 -6.8125 6.953125 -6.8125 L 2.75 -6.8125 C 2.515625 -6.8125 2.5 -6.796875 2.4375 -6.609375 L 1.890625 -4.8125 C 1.875 -4.765625 1.859375 -4.6875 1.859375 -4.671875 C 1.859375 -4.671875 1.859375 -4.5625 1.984375 -4.5625 C 2.078125 -4.5625 2.09375 -4.640625 2.109375 -4.671875 C 2.5 -5.84375 3.015625 -6.5 4.5625 -6.5 L 6.1875 -6.5 L 0.625 -0.265625 C 0.625 -0.265625 0.578125 -0.125 0.578125 -0.09375 C 0.578125 0 0.640625 0 0.828125 0 L 5.15625 0 C 5.40625 0 5.40625 -0.015625 5.46875 -0.203125 L 6.1875 -2.40625 C 6.1875 -2.4375 6.21875 -2.515625 6.21875 -2.546875 C 6.21875 -2.609375 6.1875 -2.65625 6.09375 -2.65625 C 6 -2.65625 5.984375 -2.625 5.921875 -2.40625 C 5.484375 -1.0625 5 -0.34375 3.3125 -0.34375 L 1.609375 -0.34375 Z M 7.171875 -6.5625 \"/>\n",
       "</symbol>\n",
       "<symbol overflow=\"visible\" id=\"glyph0-4\">\n",
       "<path style=\"stroke:none;\" d=\"M 4.5 -4.296875 C 4.5 -4.34375 4.46875 -4.390625 4.40625 -4.390625 C 4.296875 -4.390625 3.890625 -4 3.734375 -3.703125 C 3.515625 -4.25 3.125 -4.40625 2.796875 -4.40625 C 1.625 -4.40625 0.40625 -2.9375 0.40625 -1.484375 C 0.40625 -0.515625 0.984375 0.109375 1.71875 0.109375 C 2.140625 0.109375 2.53125 -0.125 2.890625 -0.484375 C 2.796875 -0.140625 2.46875 1.203125 2.4375 1.296875 C 2.359375 1.578125 2.28125 1.609375 1.71875 1.625 C 1.59375 1.625 1.5 1.625 1.5 1.828125 C 1.5 1.828125 1.5 1.9375 1.625 1.9375 C 1.9375 1.9375 2.296875 1.90625 2.625 1.90625 C 2.953125 1.90625 3.3125 1.9375 3.65625 1.9375 C 3.703125 1.9375 3.828125 1.9375 3.828125 1.734375 C 3.828125 1.625 3.734375 1.625 3.5625 1.625 C 3.09375 1.625 3.09375 1.5625 3.09375 1.46875 C 3.09375 1.390625 3.109375 1.328125 3.125 1.25 Z M 1.75 -0.109375 C 1.140625 -0.109375 1.109375 -0.875 1.109375 -1.046875 C 1.109375 -1.53125 1.390625 -2.609375 1.5625 -3.03125 C 1.875 -3.765625 2.390625 -4.1875 2.796875 -4.1875 C 3.453125 -4.1875 3.59375 -3.375 3.59375 -3.3125 C 3.59375 -3.25 3.046875 -1.0625 3.015625 -1.03125 C 2.859375 -0.75 2.296875 -0.109375 1.75 -0.109375 Z M 1.75 -0.109375 \"/>\n",
       "</symbol>\n",
       "<symbol overflow=\"visible\" id=\"glyph1-0\">\n",
       "<path style=\"stroke:none;\" d=\"\"/>\n",
       "</symbol>\n",
       "<symbol overflow=\"visible\" id=\"glyph1-1\">\n",
       "<path style=\"stroke:none;\" d=\"M 2.9375 -6.375 C 2.9375 -6.625 2.9375 -6.640625 2.703125 -6.640625 C 2.078125 -6 1.203125 -6 0.890625 -6 L 0.890625 -5.6875 C 1.09375 -5.6875 1.671875 -5.6875 2.1875 -5.953125 L 2.1875 -0.78125 C 2.1875 -0.421875 2.15625 -0.3125 1.265625 -0.3125 L 0.953125 -0.3125 L 0.953125 0 C 1.296875 -0.03125 2.15625 -0.03125 2.5625 -0.03125 C 2.953125 -0.03125 3.828125 -0.03125 4.171875 0 L 4.171875 -0.3125 L 3.859375 -0.3125 C 2.953125 -0.3125 2.9375 -0.421875 2.9375 -0.78125 Z M 2.9375 -6.375 \"/>\n",
       "</symbol>\n",
       "<symbol overflow=\"visible\" id=\"glyph1-2\">\n",
       "<path style=\"stroke:none;\" d=\"M 4.578125 -3.1875 C 4.578125 -3.984375 4.53125 -4.78125 4.1875 -5.515625 C 3.734375 -6.484375 2.90625 -6.640625 2.5 -6.640625 C 1.890625 -6.640625 1.171875 -6.375 0.75 -5.453125 C 0.4375 -4.765625 0.390625 -3.984375 0.390625 -3.1875 C 0.390625 -2.4375 0.421875 -1.546875 0.84375 -0.78125 C 1.265625 0.015625 2 0.21875 2.484375 0.21875 C 3.015625 0.21875 3.78125 0.015625 4.21875 -0.9375 C 4.53125 -1.625 4.578125 -2.40625 4.578125 -3.1875 Z M 2.484375 0 C 2.09375 0 1.5 -0.25 1.328125 -1.203125 C 1.21875 -1.796875 1.21875 -2.71875 1.21875 -3.3125 C 1.21875 -3.953125 1.21875 -4.609375 1.296875 -5.140625 C 1.484375 -6.328125 2.234375 -6.421875 2.484375 -6.421875 C 2.8125 -6.421875 3.46875 -6.234375 3.65625 -5.25 C 3.765625 -4.6875 3.765625 -3.9375 3.765625 -3.3125 C 3.765625 -2.5625 3.765625 -1.890625 3.65625 -1.25 C 3.5 -0.296875 2.9375 0 2.484375 0 Z M 2.484375 0 \"/>\n",
       "</symbol>\n",
       "<symbol overflow=\"visible\" id=\"glyph1-3\">\n",
       "<path style=\"stroke:none;\" d=\"M 6.109375 -6.03125 C 6.109375 -6.390625 6.125 -6.5 6.890625 -6.5 L 7.140625 -6.5 L 7.140625 -6.8125 C 6.78125 -6.78125 6.046875 -6.78125 5.671875 -6.78125 C 5.296875 -6.78125 4.546875 -6.78125 4.203125 -6.8125 L 4.203125 -6.5 L 4.4375 -6.5 C 5.203125 -6.5 5.21875 -6.390625 5.21875 -6.03125 L 5.21875 -3.703125 L 2.25 -3.703125 L 2.25 -6.03125 C 2.25 -6.390625 2.265625 -6.5 3.03125 -6.5 L 3.265625 -6.5 L 3.265625 -6.8125 C 2.921875 -6.78125 2.1875 -6.78125 1.796875 -6.78125 C 1.421875 -6.78125 0.671875 -6.78125 0.328125 -6.8125 L 0.328125 -6.5 L 0.5625 -6.5 C 1.328125 -6.5 1.359375 -6.390625 1.359375 -6.03125 L 1.359375 -0.78125 C 1.359375 -0.421875 1.328125 -0.3125 0.5625 -0.3125 L 0.328125 -0.3125 L 0.328125 0 C 0.671875 -0.03125 1.421875 -0.03125 1.796875 -0.03125 C 2.171875 -0.03125 2.921875 -0.03125 3.265625 0 L 3.265625 -0.3125 L 3.03125 -0.3125 C 2.265625 -0.3125 2.25 -0.421875 2.25 -0.78125 L 2.25 -3.390625 L 5.21875 -3.390625 L 5.21875 -0.78125 C 5.21875 -0.421875 5.203125 -0.3125 4.4375 -0.3125 L 4.203125 -0.3125 L 4.203125 0 C 4.546875 -0.03125 5.28125 -0.03125 5.65625 -0.03125 C 6.046875 -0.03125 6.78125 -0.03125 7.140625 0 L 7.140625 -0.3125 L 6.890625 -0.3125 C 6.125 -0.3125 6.109375 -0.421875 6.109375 -0.78125 Z M 6.109375 -6.03125 \"/>\n",
       "</symbol>\n",
       "<symbol overflow=\"visible\" id=\"glyph2-0\">\n",
       "<path style=\"stroke:none;\" d=\"\"/>\n",
       "</symbol>\n",
       "<symbol overflow=\"visible\" id=\"glyph2-1\">\n",
       "<path style=\"stroke:none;\" d=\"M 4.421875 -2.5 C 4.421875 -3.5625 3.53125 -4.421875 2.5 -4.421875 C 1.421875 -4.421875 0.546875 -3.53125 0.546875 -2.5 C 0.546875 -1.4375 1.421875 -0.5625 2.5 -0.5625 C 3.53125 -0.5625 4.421875 -1.421875 4.421875 -2.5 Z M 4.421875 -2.5 \"/>\n",
       "</symbol>\n",
       "<symbol overflow=\"visible\" id=\"glyph2-2\">\n",
       "<path style=\"stroke:none;\" d=\"M 1.578125 -7.125 C 1.578125 -7.296875 1.578125 -7.484375 1.390625 -7.484375 C 1.1875 -7.484375 1.1875 -7.296875 1.1875 -7.125 L 1.1875 2.140625 C 1.1875 2.3125 1.1875 2.5 1.390625 2.5 C 1.578125 2.5 1.578125 2.3125 1.578125 2.140625 Z M 1.578125 -7.125 \"/>\n",
       "</symbol>\n",
       "<symbol overflow=\"visible\" id=\"glyph2-3\">\n",
       "<path style=\"stroke:none;\" d=\"M 2.71875 -2.328125 C 2.765625 -2.4375 2.765625 -2.46875 2.765625 -2.5 C 2.765625 -2.515625 2.765625 -2.546875 2.71875 -2.65625 L 0.984375 -7.25 C 0.921875 -7.421875 0.859375 -7.484375 0.75 -7.484375 C 0.640625 -7.484375 0.546875 -7.390625 0.546875 -7.28125 C 0.546875 -7.25 0.546875 -7.234375 0.59375 -7.125 L 2.359375 -2.5 L 0.59375 2.109375 C 0.546875 2.21875 0.546875 2.25 0.546875 2.296875 C 0.546875 2.40625 0.640625 2.5 0.75 2.5 C 0.875 2.5 0.921875 2.390625 0.953125 2.296875 Z M 2.71875 -2.328125 \"/>\n",
       "</symbol>\n",
       "</g>\n",
       "<clipPath id=\"clip1\">\n",
       "  <path d=\"M 6 0.199219 L 11 0.199219 L 11 5 L 6 5 Z M 6 0.199219 \"/>\n",
       "</clipPath>\n",
       "<clipPath id=\"clip2\">\n",
       "  <path d=\"M 11 0.199219 L 15 0.199219 L 15 5 L 11 5 Z M 11 0.199219 \"/>\n",
       "</clipPath>\n",
       "<clipPath id=\"clip3\">\n",
       "  <path d=\"M 346 0.199219 L 350 0.199219 L 350 4 L 346 4 Z M 346 0.199219 \"/>\n",
       "</clipPath>\n",
       "<clipPath id=\"clip4\">\n",
       "  <path d=\"M 349 1 L 383.070312 1 L 383.070312 2 L 349 2 Z M 349 1 \"/>\n",
       "</clipPath>\n",
       "<clipPath id=\"clip5\">\n",
       "  <path d=\"M 347 31 L 383.070312 31 L 383.070312 33 L 347 33 Z M 347 31 \"/>\n",
       "</clipPath>\n",
       "<clipPath id=\"clip6\">\n",
       "  <path d=\"M 354 67 L 383.070312 67 L 383.070312 69 L 354 69 Z M 354 67 \"/>\n",
       "</clipPath>\n",
       "<clipPath id=\"clip7\">\n",
       "  <path d=\"M 347 109 L 383.070312 109 L 383.070312 110 L 347 110 Z M 347 109 \"/>\n",
       "</clipPath>\n",
       "<clipPath id=\"clip8\">\n",
       "  <path d=\"M 347 151 L 383.070312 151 L 383.070312 153 L 347 153 Z M 347 151 \"/>\n",
       "</clipPath>\n",
       "</defs>\n",
       "<g id=\"surface1\">\n",
       "<g clip-path=\"url(#clip1)\" clip-rule=\"nonzero\">\n",
       "<g style=\"fill:rgb(0%,0%,0%);fill-opacity:1;\">\n",
       "  <use xlink:href=\"#glyph0-1\" x=\"6.072\" y=\"4.491\"/>\n",
       "</g>\n",
       "</g>\n",
       "<g clip-path=\"url(#clip2)\" clip-rule=\"nonzero\">\n",
       "<g style=\"fill:rgb(0%,0%,0%);fill-opacity:1;\">\n",
       "  <use xlink:href=\"#glyph1-1\" x=\"10.384\" y=\"4.491\"/>\n",
       "</g>\n",
       "</g>\n",
       "<path style=\"fill:none;stroke-width:0.398;stroke-linecap:round;stroke-linejoin:round;stroke:rgb(0%,0%,0%);stroke-opacity:1;stroke-miterlimit:10;\" d=\"M 63.417969 -0.00025 L 28.347656 -0.00025 \" transform=\"matrix(1,0,0,-1,-8,1.281)\"/>\n",
       "<path style=\"fill:none;stroke-width:0.398;stroke-linecap:round;stroke-linejoin:round;stroke:rgb(0%,0%,0%);stroke-opacity:1;stroke-miterlimit:10;\" d=\"M 102.574219 -0.00025 L 63.417969 -0.00025 \" transform=\"matrix(1,0,0,-1,-8,1.281)\"/>\n",
       "<path style=\"fill:none;stroke-width:0.398;stroke-linecap:round;stroke-linejoin:round;stroke:rgb(0%,0%,0%);stroke-opacity:1;stroke-miterlimit:10;\" d=\"M 139.089844 -0.00025 L 102.574219 -0.00025 \" transform=\"matrix(1,0,0,-1,-8,1.281)\"/>\n",
       "<path style=\"fill:none;stroke-width:0.398;stroke-linecap:round;stroke-linejoin:round;stroke:rgb(0%,0%,0%);stroke-opacity:1;stroke-miterlimit:10;\" d=\"M 178.246094 -0.00025 L 139.089844 -0.00025 \" transform=\"matrix(1,0,0,-1,-8,1.281)\"/>\n",
       "<path style=\"fill:none;stroke-width:0.398;stroke-linecap:round;stroke-linejoin:round;stroke:rgb(0%,0%,0%);stroke-opacity:1;stroke-miterlimit:10;\" d=\"M 222.281344 -0.00025 L 222.281344 -143.773687 \" transform=\"matrix(1,0,0,-1,-7.004,1.281)\"/>\n",
       "<path style=\"fill:none;stroke-width:0.398;stroke-linecap:round;stroke-linejoin:round;stroke:rgb(0%,0%,0%);stroke-opacity:1;stroke-miterlimit:10;\" d=\"M 222.281156 -0.00025 L 222.281156 -143.773687 \" transform=\"matrix(1,0,0,-1,-8.996,1.281)\"/>\n",
       "<path style=\"fill:none;stroke-width:0.398;stroke-linecap:round;stroke-linejoin:round;stroke:rgb(0%,0%,0%);stroke-opacity:1;stroke-miterlimit:10;\" d=\"M 268.5625 -0.00025 L 222.28125 -0.00025 \" transform=\"matrix(1,0,0,-1,-8,1.281)\"/>\n",
       "<path style=\"fill:none;stroke-width:0.398;stroke-linecap:round;stroke-linejoin:round;stroke:rgb(0%,0%,0%);stroke-opacity:1;stroke-miterlimit:10;\" d=\"M 313.382812 -0.00025 L 268.5625 -0.00025 \" transform=\"matrix(1,0,0,-1,-8,1.281)\"/>\n",
       "<g clip-path=\"url(#clip3)\" clip-rule=\"nonzero\">\n",
       "<g style=\"fill:rgb(0%,0%,0%);fill-opacity:1;\">\n",
       "  <use xlink:href=\"#glyph2-1\" x=\"345.489\" y=\"3.743\"/>\n",
       "</g>\n",
       "</g>\n",
       "<path style=\"fill:none;stroke-width:0.398;stroke-linecap:round;stroke-linejoin:round;stroke:rgb(0%,0%,0%);stroke-opacity:1;stroke-miterlimit:10;\" d=\"M 355.980469 -1.355719 L 355.980469 -60.347906 \" transform=\"matrix(1,0,0,-1,-8,1.281)\"/>\n",
       "<path style=\"fill:none;stroke-width:0.398;stroke-linecap:round;stroke-linejoin:round;stroke:rgb(0%,0%,0%);stroke-opacity:1;stroke-miterlimit:10;\" d=\"M 354.761719 -0.00025 L 313.382812 -0.00025 \" transform=\"matrix(1,0,0,-1,-8,1.281)\"/>\n",
       "<g clip-path=\"url(#clip4)\" clip-rule=\"nonzero\">\n",
       "<path style=\"fill:none;stroke-width:0.398;stroke-linecap:round;stroke-linejoin:round;stroke:rgb(0%,0%,0%);stroke-opacity:1;stroke-miterlimit:10;\" d=\"M 391.070312 -0.00025 L 357.199219 -0.00025 \" transform=\"matrix(1,0,0,-1,-8,1.281)\"/>\n",
       "</g>\n",
       "<g style=\"fill:rgb(0%,0%,0%);fill-opacity:1;\">\n",
       "  <use xlink:href=\"#glyph0-1\" x=\"6.072\" y=\"35.272\"/>\n",
       "</g>\n",
       "<g style=\"fill:rgb(0%,0%,0%);fill-opacity:1;\">\n",
       "  <use xlink:href=\"#glyph1-2\" x=\"10.384\" y=\"35.272\"/>\n",
       "</g>\n",
       "<path style=\"fill:none;stroke-width:0.398;stroke-linecap:round;stroke-linejoin:round;stroke:rgb(0%,0%,0%);stroke-opacity:1;stroke-miterlimit:10;\" d=\"M 63.417969 -30.7815 L 28.347656 -30.7815 \" transform=\"matrix(1,0,0,-1,-8,1.281)\"/>\n",
       "<path style=\"fill:none;stroke-width:0.398;stroke-linecap:round;stroke-linejoin:round;stroke:rgb(0%,0%,0%);stroke-opacity:1;stroke-miterlimit:10;\" d=\"M 102.574219 -30.7815 L 63.417969 -30.7815 \" transform=\"matrix(1,0,0,-1,-8,1.281)\"/>\n",
       "<path style=\"fill:none;stroke-width:0.398;stroke-linecap:round;stroke-linejoin:round;stroke:rgb(0%,0%,0%);stroke-opacity:1;stroke-miterlimit:10;\" d=\"M 139.089844 -30.7815 L 102.574219 -30.7815 \" transform=\"matrix(1,0,0,-1,-8,1.281)\"/>\n",
       "<path style=\"fill:none;stroke-width:0.398;stroke-linecap:round;stroke-linejoin:round;stroke:rgb(0%,0%,0%);stroke-opacity:1;stroke-miterlimit:10;\" d=\"M 178.246094 -30.7815 L 139.089844 -30.7815 \" transform=\"matrix(1,0,0,-1,-8,1.281)\"/>\n",
       "<path style=\"fill:none;stroke-width:0.398;stroke-linecap:round;stroke-linejoin:round;stroke:rgb(0%,0%,0%);stroke-opacity:1;stroke-miterlimit:10;\" d=\"M 222.28125 -30.7815 L 178.246094 -30.7815 \" transform=\"matrix(1,0,0,-1,-8,1.281)\"/>\n",
       "<path style=\"fill:none;stroke-width:0.398;stroke-linecap:round;stroke-linejoin:round;stroke:rgb(0%,0%,0%);stroke-opacity:1;stroke-miterlimit:10;\" d=\"M 268.562594 -30.7815 L 268.562594 -101.476812 \" transform=\"matrix(1,0,0,-1,-7.004,1.281)\"/>\n",
       "<path style=\"fill:none;stroke-width:0.398;stroke-linecap:round;stroke-linejoin:round;stroke:rgb(0%,0%,0%);stroke-opacity:1;stroke-miterlimit:10;\" d=\"M 268.562406 -30.7815 L 268.562406 -101.476812 \" transform=\"matrix(1,0,0,-1,-8.996,1.281)\"/>\n",
       "<g style=\"fill:rgb(0%,0%,0%);fill-opacity:1;\">\n",
       "  <use xlink:href=\"#glyph2-1\" x=\"302.891\" y=\"34.525\"/>\n",
       "</g>\n",
       "<path style=\"fill:none;stroke-width:0.398;stroke-linecap:round;stroke-linejoin:round;stroke:rgb(0%,0%,0%);stroke-opacity:1;stroke-miterlimit:10;\" d=\"M 313.382812 -32.136969 L 313.382812 -60.347906 \" transform=\"matrix(1,0,0,-1,-8,1.281)\"/>\n",
       "<path style=\"fill:none;stroke-width:0.398;stroke-linecap:round;stroke-linejoin:round;stroke:rgb(0%,0%,0%);stroke-opacity:1;stroke-miterlimit:10;\" d=\"M 312.164062 -30.7815 L 268.5625 -30.7815 \" transform=\"matrix(1,0,0,-1,-8,1.281)\"/>\n",
       "<path style=\"fill:none;stroke-width:0.398;stroke-linecap:round;stroke-linejoin:round;stroke:rgb(0%,0%,0%);stroke-opacity:1;stroke-miterlimit:10;\" d=\"M 355.980469 -30.7815 L 314.597656 -30.7815 \" transform=\"matrix(1,0,0,-1,-8,1.281)\"/>\n",
       "<g clip-path=\"url(#clip5)\" clip-rule=\"nonzero\">\n",
       "<path style=\"fill:none;stroke-width:0.398;stroke-linecap:round;stroke-linejoin:round;stroke:rgb(0%,0%,0%);stroke-opacity:1;stroke-miterlimit:10;\" d=\"M 391.070312 -30.7815 L 355.980469 -30.7815 \" transform=\"matrix(1,0,0,-1,-8,1.281)\"/>\n",
       "</g>\n",
       "<g style=\"fill:rgb(0%,0%,0%);fill-opacity:1;\">\n",
       "  <use xlink:href=\"#glyph2-2\" x=\"3.742\" y=\"70.51\"/>\n",
       "</g>\n",
       "<g style=\"fill:rgb(0%,0%,0%);fill-opacity:1;\">\n",
       "  <use xlink:href=\"#glyph1-2\" x=\"6.509\" y=\"70.51\"/>\n",
       "</g>\n",
       "<g style=\"fill:rgb(0%,0%,0%);fill-opacity:1;\">\n",
       "  <use xlink:href=\"#glyph2-3\" x=\"11.491\" y=\"70.51\"/>\n",
       "</g>\n",
       "<path style=\"fill:none;stroke-width:0.398;stroke-linecap:round;stroke-linejoin:round;stroke:rgb(0%,0%,0%);stroke-opacity:1;stroke-miterlimit:10;\" d=\"M 63.417969 -66.738531 L 28.347656 -66.738531 \" transform=\"matrix(1,0,0,-1,-8,1.281)\"/>\n",
       "<path style=\"fill:none;stroke-width:0.398;stroke-linecap:round;stroke-linejoin:round;stroke:rgb(0%,0%,0%);stroke-opacity:1;stroke-miterlimit:10;\" d=\"M -3.8865 -0.00053125 L 3.886938 -0.00053125 \" transform=\"matrix(1,0,0,-1,94.574,68.019)\"/>\n",
       "<path style=\"fill:none;stroke-width:0.398;stroke-linecap:round;stroke-linejoin:round;stroke:rgb(0%,0%,0%);stroke-opacity:1;stroke-miterlimit:10;\" d=\"M 0.00021875 -3.883344 L 0.00021875 3.886188 \" transform=\"matrix(1,0,0,-1,94.574,68.019)\"/>\n",
       "<path style=\"fill:none;stroke-width:0.398;stroke-linecap:round;stroke-linejoin:round;stroke:rgb(0%,0%,0%);stroke-opacity:1;stroke-miterlimit:10;\" d=\"M 0.00021875 3.983844 C -2.199 3.983844 -3.984156 2.198688 -3.984156 -0.00053125 \" transform=\"matrix(1,0,0,-1,94.574,68.019)\"/>\n",
       "<path style=\"fill:none;stroke-width:0.398;stroke-linecap:round;stroke-linejoin:round;stroke:rgb(0%,0%,0%);stroke-opacity:1;stroke-miterlimit:10;\" d=\"M -3.984156 -0.00053125 C -3.984156 -2.19975 -2.199 -3.984906 0.00021875 -3.984906 \" transform=\"matrix(1,0,0,-1,94.574,68.019)\"/>\n",
       "<path style=\"fill:none;stroke-width:0.398;stroke-linecap:round;stroke-linejoin:round;stroke:rgb(0%,0%,0%);stroke-opacity:1;stroke-miterlimit:10;\" d=\"M 0.00021875 -3.984906 C 2.199438 -3.984906 3.984594 -2.19975 3.984594 -0.00053125 \" transform=\"matrix(1,0,0,-1,94.574,68.019)\"/>\n",
       "<path style=\"fill:none;stroke-width:0.398;stroke-linecap:round;stroke-linejoin:round;stroke:rgb(0%,0%,0%);stroke-opacity:1;stroke-miterlimit:10;\" d=\"M 3.984594 -0.00053125 C 3.984594 2.198688 2.199438 3.983844 0.00021875 3.983844 \" transform=\"matrix(1,0,0,-1,94.574,68.019)\"/>\n",
       "<path style=\"fill:none;stroke-width:0.398;stroke-linecap:round;stroke-linejoin:round;stroke:rgb(0%,0%,0%);stroke-opacity:1;stroke-miterlimit:10;\" d=\"M 98.488281 -66.739531 L 63.417969 -66.739531 \" transform=\"matrix(1,0,0,-1,-8,1.28)\"/>\n",
       "<path style=\"fill:none;stroke-width:0.398;stroke-linecap:round;stroke-linejoin:round;stroke:rgb(0%,0%,0%);stroke-opacity:1;stroke-miterlimit:10;\" d=\"M 139.089844 -66.739531 L 106.65625 -66.739531 \" transform=\"matrix(1,0,0,-1,-8,1.28)\"/>\n",
       "<path style=\"fill:none;stroke-width:0.398;stroke-linecap:round;stroke-linejoin:round;stroke:rgb(0%,0%,0%);stroke-opacity:1;stroke-miterlimit:10;\" d=\"M 178.246094 -66.739531 L 139.089844 -66.739531 \" transform=\"matrix(1,0,0,-1,-8,1.28)\"/>\n",
       "<path style=\"fill:none;stroke-width:0.398;stroke-linecap:round;stroke-linejoin:round;stroke:rgb(0%,0%,0%);stroke-opacity:1;stroke-miterlimit:10;\" d=\"M 222.28125 -66.739531 L 178.246094 -66.739531 \" transform=\"matrix(1,0,0,-1,-8,1.28)\"/>\n",
       "<path style=\"fill:none;stroke-width:0.398;stroke-linecap:round;stroke-linejoin:round;stroke:rgb(0%,0%,0%);stroke-opacity:1;stroke-miterlimit:10;\" d=\"M 268.5625 -66.739531 L 222.28125 -66.739531 \" transform=\"matrix(1,0,0,-1,-8,1.28)\"/>\n",
       "<g style=\"fill:rgb(0%,0%,0%);fill-opacity:1;\">\n",
       "  <use xlink:href=\"#glyph0-2\" x=\"300.864\" y=\"71.423\"/>\n",
       "</g>\n",
       "<path style=\"fill:none;stroke-width:0.398;stroke-linecap:round;stroke-linejoin:round;stroke:rgb(0%,0%,0%);stroke-opacity:1;stroke-miterlimit:10;\" d=\"M 320.886719 -60.345 L 305.875 -60.345 \" transform=\"matrix(1,0,0,-1,-8,1.28)\"/>\n",
       "<path style=\"fill:none;stroke-width:0.398;stroke-linecap:round;stroke-linejoin:round;stroke:rgb(0%,0%,0%);stroke-opacity:1;stroke-miterlimit:10;\" d=\"M 305.875 -60.345 L 305.875 -73.130156 \" transform=\"matrix(1,0,0,-1,-8,1.28)\"/>\n",
       "<path style=\"fill:none;stroke-width:0.398;stroke-linecap:round;stroke-linejoin:round;stroke:rgb(0%,0%,0%);stroke-opacity:1;stroke-miterlimit:10;\" d=\"M 305.875 -73.130156 L 320.886719 -73.130156 \" transform=\"matrix(1,0,0,-1,-8,1.28)\"/>\n",
       "<path style=\"fill:none;stroke-width:0.398;stroke-linecap:round;stroke-linejoin:round;stroke:rgb(0%,0%,0%);stroke-opacity:1;stroke-miterlimit:10;\" d=\"M 320.886719 -73.130156 L 320.886719 -60.345 \" transform=\"matrix(1,0,0,-1,-8,1.28)\"/>\n",
       "<path style=\"fill:none;stroke-width:0.398;stroke-linecap:round;stroke-linejoin:round;stroke:rgb(0%,0%,0%);stroke-opacity:1;stroke-miterlimit:10;\" d=\"M 305.875 -66.739531 L 268.5625 -66.739531 \" transform=\"matrix(1,0,0,-1,-8,1.28)\"/>\n",
       "<g style=\"fill:rgb(0%,0%,0%);fill-opacity:1;\">\n",
       "  <use xlink:href=\"#glyph0-3\" x=\"344.223\" y=\"71.423\"/>\n",
       "</g>\n",
       "<path style=\"fill:none;stroke-width:0.398;stroke-linecap:round;stroke-linejoin:round;stroke:rgb(0%,0%,0%);stroke-opacity:1;stroke-miterlimit:10;\" d=\"M 362.726562 -60.345 L 349.234375 -60.345 \" transform=\"matrix(1,0,0,-1,-8,1.28)\"/>\n",
       "<path style=\"fill:none;stroke-width:0.398;stroke-linecap:round;stroke-linejoin:round;stroke:rgb(0%,0%,0%);stroke-opacity:1;stroke-miterlimit:10;\" d=\"M 349.234375 -60.345 L 349.234375 -73.130156 \" transform=\"matrix(1,0,0,-1,-8,1.28)\"/>\n",
       "<path style=\"fill:none;stroke-width:0.398;stroke-linecap:round;stroke-linejoin:round;stroke:rgb(0%,0%,0%);stroke-opacity:1;stroke-miterlimit:10;\" d=\"M 349.234375 -73.130156 L 362.726562 -73.130156 \" transform=\"matrix(1,0,0,-1,-8,1.28)\"/>\n",
       "<path style=\"fill:none;stroke-width:0.398;stroke-linecap:round;stroke-linejoin:round;stroke:rgb(0%,0%,0%);stroke-opacity:1;stroke-miterlimit:10;\" d=\"M 362.726562 -73.130156 L 362.726562 -60.345 \" transform=\"matrix(1,0,0,-1,-8,1.28)\"/>\n",
       "<path style=\"fill:none;stroke-width:0.398;stroke-linecap:round;stroke-linejoin:round;stroke:rgb(0%,0%,0%);stroke-opacity:1;stroke-miterlimit:10;\" d=\"M 349.234375 -66.739531 L 320.886719 -66.739531 \" transform=\"matrix(1,0,0,-1,-8,1.28)\"/>\n",
       "<g clip-path=\"url(#clip6)\" clip-rule=\"nonzero\">\n",
       "<path style=\"fill:none;stroke-width:0.398;stroke-linecap:round;stroke-linejoin:round;stroke:rgb(0%,0%,0%);stroke-opacity:1;stroke-miterlimit:10;\" d=\"M 391.070312 -66.739531 L 362.726562 -66.739531 \" transform=\"matrix(1,0,0,-1,-8,1.28)\"/>\n",
       "</g>\n",
       "<g style=\"fill:rgb(0%,0%,0%);fill-opacity:1;\">\n",
       "  <use xlink:href=\"#glyph2-2\" x=\"3.742\" y=\"112.223\"/>\n",
       "</g>\n",
       "<g style=\"fill:rgb(0%,0%,0%);fill-opacity:1;\">\n",
       "  <use xlink:href=\"#glyph1-2\" x=\"6.509\" y=\"112.223\"/>\n",
       "</g>\n",
       "<g style=\"fill:rgb(0%,0%,0%);fill-opacity:1;\">\n",
       "  <use xlink:href=\"#glyph2-3\" x=\"11.491\" y=\"112.223\"/>\n",
       "</g>\n",
       "<g style=\"fill:rgb(0%,0%,0%);fill-opacity:1;\">\n",
       "  <use xlink:href=\"#glyph1-3\" x=\"51.682\" y=\"113.136\"/>\n",
       "</g>\n",
       "<path style=\"fill:none;stroke-width:0.398;stroke-linecap:round;stroke-linejoin:round;stroke:rgb(0%,0%,0%);stroke-opacity:1;stroke-miterlimit:10;\" d=\"M 70.144531 -102.059844 L 56.691406 -102.059844 \" transform=\"matrix(1,0,0,-1,-8,1.28)\"/>\n",
       "<path style=\"fill:none;stroke-width:0.398;stroke-linecap:round;stroke-linejoin:round;stroke:rgb(0%,0%,0%);stroke-opacity:1;stroke-miterlimit:10;\" d=\"M 56.691406 -102.059844 L 56.691406 -114.845 \" transform=\"matrix(1,0,0,-1,-8,1.28)\"/>\n",
       "<path style=\"fill:none;stroke-width:0.398;stroke-linecap:round;stroke-linejoin:round;stroke:rgb(0%,0%,0%);stroke-opacity:1;stroke-miterlimit:10;\" d=\"M 56.691406 -114.845 L 70.144531 -114.845 \" transform=\"matrix(1,0,0,-1,-8,1.28)\"/>\n",
       "<path style=\"fill:none;stroke-width:0.398;stroke-linecap:round;stroke-linejoin:round;stroke:rgb(0%,0%,0%);stroke-opacity:1;stroke-miterlimit:10;\" d=\"M 70.144531 -114.845 L 70.144531 -102.059844 \" transform=\"matrix(1,0,0,-1,-8,1.28)\"/>\n",
       "<path style=\"fill:none;stroke-width:0.398;stroke-linecap:round;stroke-linejoin:round;stroke:rgb(0%,0%,0%);stroke-opacity:1;stroke-miterlimit:10;\" d=\"M 56.691406 -108.450469 L 28.347656 -108.450469 \" transform=\"matrix(1,0,0,-1,-8,1.28)\"/>\n",
       "<g style=\"fill:rgb(0%,0%,0%);fill-opacity:1;\">\n",
       "  <use xlink:href=\"#glyph2-1\" x=\"92.083\" y=\"112.195\"/>\n",
       "</g>\n",
       "<path style=\"fill:none;stroke-width:0.398;stroke-linecap:round;stroke-linejoin:round;stroke:rgb(0%,0%,0%);stroke-opacity:1;stroke-miterlimit:10;\" d=\"M 102.574219 -107.372344 L 102.574219 -70.821562 \" transform=\"matrix(1,0,0,-1,-8,1.28)\"/>\n",
       "<path style=\"fill:none;stroke-width:0.398;stroke-linecap:round;stroke-linejoin:round;stroke:rgb(0%,0%,0%);stroke-opacity:1;stroke-miterlimit:10;\" d=\"M 101.355469 -108.450469 L 70.144531 -108.450469 \" transform=\"matrix(1,0,0,-1,-8,1.28)\"/>\n",
       "<path style=\"fill:none;stroke-width:0.398;stroke-linecap:round;stroke-linejoin:round;stroke:rgb(0%,0%,0%);stroke-opacity:1;stroke-miterlimit:10;\" d=\"M -3.885875 0.00153125 L 3.883656 0.00153125 \" transform=\"matrix(1,0,0,-1,131.089,109.732)\"/>\n",
       "<path style=\"fill:none;stroke-width:0.398;stroke-linecap:round;stroke-linejoin:round;stroke:rgb(0%,0%,0%);stroke-opacity:1;stroke-miterlimit:10;\" d=\"M 0.00084375 -3.885187 L 0.00084375 3.884344 \" transform=\"matrix(1,0,0,-1,131.089,109.732)\"/>\n",
       "<path style=\"fill:none;stroke-width:0.398;stroke-linecap:round;stroke-linejoin:round;stroke:rgb(0%,0%,0%);stroke-opacity:1;stroke-miterlimit:10;\" d=\"M 0.00084375 3.985906 C -2.198375 3.985906 -3.983531 2.20075 -3.983531 0.00153125 \" transform=\"matrix(1,0,0,-1,131.089,109.732)\"/>\n",
       "<path style=\"fill:none;stroke-width:0.398;stroke-linecap:round;stroke-linejoin:round;stroke:rgb(0%,0%,0%);stroke-opacity:1;stroke-miterlimit:10;\" d=\"M -3.983531 0.00153125 C -3.983531 -2.197687 -2.198375 -3.98675 0.00084375 -3.98675 \" transform=\"matrix(1,0,0,-1,131.089,109.732)\"/>\n",
       "<path style=\"fill:none;stroke-width:0.398;stroke-linecap:round;stroke-linejoin:round;stroke:rgb(0%,0%,0%);stroke-opacity:1;stroke-miterlimit:10;\" d=\"M 0.00084375 -3.98675 C 2.200063 -3.98675 3.985219 -2.197687 3.985219 0.00153125 \" transform=\"matrix(1,0,0,-1,131.089,109.732)\"/>\n",
       "<path style=\"fill:none;stroke-width:0.398;stroke-linecap:round;stroke-linejoin:round;stroke:rgb(0%,0%,0%);stroke-opacity:1;stroke-miterlimit:10;\" d=\"M 3.985219 0.00153125 C 3.985219 2.20075 2.200063 3.985906 0.00084375 3.985906 \" transform=\"matrix(1,0,0,-1,131.089,109.732)\"/>\n",
       "<path style=\"fill:none;stroke-width:0.398;stroke-linecap:round;stroke-linejoin:round;stroke:rgb(0%,0%,0%);stroke-opacity:1;stroke-miterlimit:10;\" d=\"M 135.003906 -108.450469 L 103.789062 -108.450469 \" transform=\"matrix(1,0,0,-1,-8,1.28)\"/>\n",
       "<path style=\"fill:none;stroke-width:0.398;stroke-linecap:round;stroke-linejoin:round;stroke:rgb(0%,0%,0%);stroke-opacity:1;stroke-miterlimit:10;\" d=\"M 178.246094 -108.450469 L 143.175781 -108.450469 \" transform=\"matrix(1,0,0,-1,-8,1.28)\"/>\n",
       "<path style=\"fill:none;stroke-width:0.398;stroke-linecap:round;stroke-linejoin:round;stroke:rgb(0%,0%,0%);stroke-opacity:1;stroke-miterlimit:10;\" d=\"M 222.28125 -108.450469 L 178.246094 -108.450469 \" transform=\"matrix(1,0,0,-1,-8,1.28)\"/>\n",
       "<path style=\"fill:none;stroke-width:0.398;stroke-linecap:round;stroke-linejoin:round;stroke:rgb(0%,0%,0%);stroke-opacity:1;stroke-miterlimit:10;\" d=\"M -7.7495 -3.209406 C -3.507313 1.036688 3.367687 1.067938 7.652844 -3.11175 \" transform=\"matrix(1,0,0,-1,260.562,109.732)\"/>\n",
       "<path style=\"fill:none;stroke-width:0.398;stroke-linecap:round;stroke-linejoin:round;stroke:rgb(0%,0%,0%);stroke-opacity:1;stroke-miterlimit:10;\" d=\"M 0.0005 -3.98675 L 4.980969 4.982 \" transform=\"matrix(1,0,0,-1,260.562,109.732)\"/>\n",
       "<path style=\"fill:none;stroke-width:0.398;stroke-linecap:round;stroke-linejoin:round;stroke:rgb(0%,0%,0%);stroke-opacity:1;stroke-miterlimit:10;\" d=\"M 277.527344 -101.477812 L 259.597656 -101.477812 \" transform=\"matrix(1,0,0,-1,-8,1.28)\"/>\n",
       "<path style=\"fill:none;stroke-width:0.398;stroke-linecap:round;stroke-linejoin:round;stroke:rgb(0%,0%,0%);stroke-opacity:1;stroke-miterlimit:10;\" d=\"M 259.597656 -101.477812 L 259.597656 -115.423125 \" transform=\"matrix(1,0,0,-1,-8,1.28)\"/>\n",
       "<path style=\"fill:none;stroke-width:0.398;stroke-linecap:round;stroke-linejoin:round;stroke:rgb(0%,0%,0%);stroke-opacity:1;stroke-miterlimit:10;\" d=\"M 259.597656 -115.423125 L 277.527344 -115.423125 \" transform=\"matrix(1,0,0,-1,-8,1.28)\"/>\n",
       "<path style=\"fill:none;stroke-width:0.398;stroke-linecap:round;stroke-linejoin:round;stroke:rgb(0%,0%,0%);stroke-opacity:1;stroke-miterlimit:10;\" d=\"M 277.527344 -115.423125 L 277.527344 -101.477812 \" transform=\"matrix(1,0,0,-1,-8,1.28)\"/>\n",
       "<path style=\"fill:none;stroke-width:0.398;stroke-linecap:round;stroke-linejoin:round;stroke:rgb(0%,0%,0%);stroke-opacity:1;stroke-miterlimit:10;\" d=\"M 259.597656 -108.450469 L 222.28125 -108.450469 \" transform=\"matrix(1,0,0,-1,-8,1.28)\"/>\n",
       "<path style=\"fill:none;stroke-width:0.398;stroke-linecap:round;stroke-linejoin:round;stroke:rgb(0%,0%,0%);stroke-opacity:1;stroke-miterlimit:10;\" d=\"M 313.382812 -108.450469 L 277.527344 -108.450469 \" transform=\"matrix(1,0,0,-1,-8,1.28)\"/>\n",
       "<path style=\"fill:none;stroke-width:0.398;stroke-linecap:round;stroke-linejoin:round;stroke:rgb(0%,0%,0%);stroke-opacity:1;stroke-miterlimit:10;\" d=\"M 355.980469 -108.450469 L 313.382812 -108.450469 \" transform=\"matrix(1,0,0,-1,-8,1.28)\"/>\n",
       "<g clip-path=\"url(#clip7)\" clip-rule=\"nonzero\">\n",
       "<path style=\"fill:none;stroke-width:0.398;stroke-linecap:round;stroke-linejoin:round;stroke:rgb(0%,0%,0%);stroke-opacity:1;stroke-miterlimit:10;\" d=\"M 391.070312 -108.450469 L 355.980469 -108.450469 \" transform=\"matrix(1,0,0,-1,-8,1.28)\"/>\n",
       "</g>\n",
       "<g style=\"fill:rgb(0%,0%,0%);fill-opacity:1;\">\n",
       "  <use xlink:href=\"#glyph2-2\" x=\"-1.063\" y=\"154.517\"/>\n",
       "</g>\n",
       "<g style=\"fill:rgb(0%,0%,0%);fill-opacity:1;\">\n",
       "  <use xlink:href=\"#glyph0-4\" x=\"1.705\" y=\"154.517\"/>\n",
       "</g>\n",
       "<g style=\"fill:rgb(0%,0%,0%);fill-opacity:1;\">\n",
       "  <use xlink:href=\"#glyph1-2\" x=\"6.509\" y=\"154.517\"/>\n",
       "</g>\n",
       "<g style=\"fill:rgb(0%,0%,0%);fill-opacity:1;\">\n",
       "  <use xlink:href=\"#glyph2-3\" x=\"11.491\" y=\"154.517\"/>\n",
       "</g>\n",
       "<path style=\"fill:none;stroke-width:0.398;stroke-linecap:round;stroke-linejoin:round;stroke:rgb(0%,0%,0%);stroke-opacity:1;stroke-miterlimit:10;\" d=\"M 63.417969 -150.747344 L 28.347656 -150.747344 \" transform=\"matrix(1,0,0,-1,-8,1.28)\"/>\n",
       "<path style=\"fill:none;stroke-width:0.398;stroke-linecap:round;stroke-linejoin:round;stroke:rgb(0%,0%,0%);stroke-opacity:1;stroke-miterlimit:10;\" d=\"M 102.574219 -150.747344 L 63.417969 -150.747344 \" transform=\"matrix(1,0,0,-1,-8,1.28)\"/>\n",
       "<g style=\"fill:rgb(0%,0%,0%);fill-opacity:1;\">\n",
       "  <use xlink:href=\"#glyph2-1\" x=\"128.599\" y=\"154.489\"/>\n",
       "</g>\n",
       "<path style=\"fill:none;stroke-width:0.398;stroke-linecap:round;stroke-linejoin:round;stroke:rgb(0%,0%,0%);stroke-opacity:1;stroke-miterlimit:10;\" d=\"M 139.089844 -149.665312 L 139.089844 -112.536406 \" transform=\"matrix(1,0,0,-1,-8,1.28)\"/>\n",
       "<path style=\"fill:none;stroke-width:0.398;stroke-linecap:round;stroke-linejoin:round;stroke:rgb(0%,0%,0%);stroke-opacity:1;stroke-miterlimit:10;\" d=\"M 137.871094 -150.747344 L 102.574219 -150.747344 \" transform=\"matrix(1,0,0,-1,-8,1.28)\"/>\n",
       "<g style=\"fill:rgb(0%,0%,0%);fill-opacity:1;\">\n",
       "  <use xlink:href=\"#glyph1-3\" x=\"166.509\" y=\"155.43\"/>\n",
       "</g>\n",
       "<path style=\"fill:none;stroke-width:0.398;stroke-linecap:round;stroke-linejoin:round;stroke:rgb(0%,0%,0%);stroke-opacity:1;stroke-miterlimit:10;\" d=\"M 184.96875 -144.352812 L 171.519531 -144.352812 \" transform=\"matrix(1,0,0,-1,-8,1.28)\"/>\n",
       "<path style=\"fill:none;stroke-width:0.398;stroke-linecap:round;stroke-linejoin:round;stroke:rgb(0%,0%,0%);stroke-opacity:1;stroke-miterlimit:10;\" d=\"M 171.519531 -144.352812 L 171.519531 -157.137969 \" transform=\"matrix(1,0,0,-1,-8,1.28)\"/>\n",
       "<path style=\"fill:none;stroke-width:0.398;stroke-linecap:round;stroke-linejoin:round;stroke:rgb(0%,0%,0%);stroke-opacity:1;stroke-miterlimit:10;\" d=\"M 171.519531 -157.137969 L 184.96875 -157.137969 \" transform=\"matrix(1,0,0,-1,-8,1.28)\"/>\n",
       "<path style=\"fill:none;stroke-width:0.398;stroke-linecap:round;stroke-linejoin:round;stroke:rgb(0%,0%,0%);stroke-opacity:1;stroke-miterlimit:10;\" d=\"M 184.96875 -157.137969 L 184.96875 -144.352812 \" transform=\"matrix(1,0,0,-1,-8,1.28)\"/>\n",
       "<path style=\"fill:none;stroke-width:0.398;stroke-linecap:round;stroke-linejoin:round;stroke:rgb(0%,0%,0%);stroke-opacity:1;stroke-miterlimit:10;\" d=\"M 171.519531 -150.747344 L 140.308594 -150.747344 \" transform=\"matrix(1,0,0,-1,-8,1.28)\"/>\n",
       "<path style=\"fill:none;stroke-width:0.398;stroke-linecap:round;stroke-linejoin:round;stroke:rgb(0%,0%,0%);stroke-opacity:1;stroke-miterlimit:10;\" d=\"M -7.75175 -3.208375 C -3.505656 1.037719 3.369344 1.068969 7.6545 -3.110719 \" transform=\"matrix(1,0,0,-1,214.283,152.026)\"/>\n",
       "<path style=\"fill:none;stroke-width:0.398;stroke-linecap:round;stroke-linejoin:round;stroke:rgb(0%,0%,0%);stroke-opacity:1;stroke-miterlimit:10;\" d=\"M -0.00175 -3.985719 L 4.982625 4.979125 \" transform=\"matrix(1,0,0,-1,214.283,152.026)\"/>\n",
       "<path style=\"fill:none;stroke-width:0.398;stroke-linecap:round;stroke-linejoin:round;stroke:rgb(0%,0%,0%);stroke-opacity:1;stroke-miterlimit:10;\" d=\"M 231.25 -143.770781 L 213.316406 -143.770781 \" transform=\"matrix(1,0,0,-1,-8,1.28)\"/>\n",
       "<path style=\"fill:none;stroke-width:0.398;stroke-linecap:round;stroke-linejoin:round;stroke:rgb(0%,0%,0%);stroke-opacity:1;stroke-miterlimit:10;\" d=\"M 213.316406 -143.770781 L 213.316406 -157.72 \" transform=\"matrix(1,0,0,-1,-8,1.28)\"/>\n",
       "<path style=\"fill:none;stroke-width:0.398;stroke-linecap:round;stroke-linejoin:round;stroke:rgb(0%,0%,0%);stroke-opacity:1;stroke-miterlimit:10;\" d=\"M 213.316406 -157.72 L 231.25 -157.72 \" transform=\"matrix(1,0,0,-1,-8,1.28)\"/>\n",
       "<path style=\"fill:none;stroke-width:0.398;stroke-linecap:round;stroke-linejoin:round;stroke:rgb(0%,0%,0%);stroke-opacity:1;stroke-miterlimit:10;\" d=\"M 231.25 -157.72 L 231.25 -143.770781 \" transform=\"matrix(1,0,0,-1,-8,1.28)\"/>\n",
       "<path style=\"fill:none;stroke-width:0.398;stroke-linecap:round;stroke-linejoin:round;stroke:rgb(0%,0%,0%);stroke-opacity:1;stroke-miterlimit:10;\" d=\"M 213.316406 -150.747344 L 184.96875 -150.747344 \" transform=\"matrix(1,0,0,-1,-8,1.28)\"/>\n",
       "<path style=\"fill:none;stroke-width:0.398;stroke-linecap:round;stroke-linejoin:round;stroke:rgb(0%,0%,0%);stroke-opacity:1;stroke-miterlimit:10;\" d=\"M 268.5625 -150.747344 L 231.25 -150.747344 \" transform=\"matrix(1,0,0,-1,-8,1.28)\"/>\n",
       "<path style=\"fill:none;stroke-width:0.398;stroke-linecap:round;stroke-linejoin:round;stroke:rgb(0%,0%,0%);stroke-opacity:1;stroke-miterlimit:10;\" d=\"M 313.382812 -150.747344 L 268.5625 -150.747344 \" transform=\"matrix(1,0,0,-1,-8,1.28)\"/>\n",
       "<path style=\"fill:none;stroke-width:0.398;stroke-linecap:round;stroke-linejoin:round;stroke:rgb(0%,0%,0%);stroke-opacity:1;stroke-miterlimit:10;\" d=\"M 355.980469 -150.747344 L 313.382812 -150.747344 \" transform=\"matrix(1,0,0,-1,-8,1.28)\"/>\n",
       "<g clip-path=\"url(#clip8)\" clip-rule=\"nonzero\">\n",
       "<path style=\"fill:none;stroke-width:0.398;stroke-linecap:round;stroke-linejoin:round;stroke:rgb(0%,0%,0%);stroke-opacity:1;stroke-miterlimit:10;\" d=\"M 391.070312 -150.747344 L 355.980469 -150.747344 \" transform=\"matrix(1,0,0,-1,-8,1.28)\"/>\n",
       "</g>\n",
       "</g>\n",
       "</svg>\n"
      ],
      "text/plain": [
       "<qutip.qip.circuit.QubitCircuit at 0x117f81b10>"
      ]
     },
     "execution_count": 7,
     "metadata": {},
     "output_type": "execute_result"
    }
   ],
   "source": [
    "teleportation"
   ]
  },
  {
   "cell_type": "markdown",
   "metadata": {},
   "source": [
    "The first qubit is user-specified $|q0 ⟩ = |\\psi ⟩$ and the other two must be $|0⟩$. \n",
    "\n",
    "### Example 1 \n",
    "#### $|q0 ⟩ = |+ ⟩$  "
   ]
  },
  {
   "cell_type": "code",
   "execution_count": 8,
   "metadata": {},
   "outputs": [],
   "source": [
    "a = 1/sqrt(2) * basis(2, 0) + 1/sqrt(2) * basis(2, 1)\n",
    "state = tensor(a, basis(2,0), basis(2,0))"
   ]
  },
  {
   "cell_type": "markdown",
   "metadata": {},
   "source": [
    "We can confirm our state is initialized correctly by observing the measurment statistics on the first qubit, follwed by which we run the circuit."
   ]
  },
  {
   "cell_type": "code",
   "execution_count": 9,
   "metadata": {},
   "outputs": [
    {
     "data": {
      "text/plain": [
       "([Quantum object: dims = [[2, 2, 2], [1, 1, 1]], shape = (8, 1), type = ket\n",
       "  Qobj data =\n",
       "  [[1.]\n",
       "   [0.]\n",
       "   [0.]\n",
       "   [0.]\n",
       "   [0.]\n",
       "   [0.]\n",
       "   [0.]\n",
       "   [0.]],\n",
       "  Quantum object: dims = [[2, 2, 2], [1, 1, 1]], shape = (8, 1), type = ket\n",
       "  Qobj data =\n",
       "  [[0.]\n",
       "   [0.]\n",
       "   [0.]\n",
       "   [0.]\n",
       "   [1.]\n",
       "   [0.]\n",
       "   [0.]\n",
       "   [0.]]],\n",
       " [0.4999999999999999, 0.4999999999999999])"
      ]
     },
     "execution_count": 9,
     "metadata": {},
     "output_type": "execute_result"
    }
   ],
   "source": [
    "initial_measurement = Measurement(\"start\", targets=[0])\n",
    "initial_measurement.measurement_comp_basis(state)"
   ]
  },
  {
   "cell_type": "markdown",
   "metadata": {},
   "source": [
    "We can run the circuit using the **QubitCircuit.run()** function which provided the initial state-vector (or density matrix) initiates one run on the circuit (including sampling any intermediate measurements) and providing the final results (any classical bits can also be explicitly set using the argument **cbits**) "
   ]
  },
  {
   "cell_type": "code",
   "execution_count": 10,
   "metadata": {},
   "outputs": [],
   "source": [
    "state_final, probability = teleportation.run(state)"
   ]
  },
  {
   "cell_type": "markdown",
   "metadata": {},
   "source": [
    "After running, we can see the measurement statistics on the last qubit to see that the qubit is teleported correctly. "
   ]
  },
  {
   "cell_type": "code",
   "execution_count": 11,
   "metadata": {},
   "outputs": [
    {
     "data": {
      "text/plain": [
       "([Quantum object: dims = [[2, 2, 2], [1, 1, 1]], shape = (8, 1), type = ket\n",
       "  Qobj data =\n",
       "  [[1.]\n",
       "   [0.]\n",
       "   [0.]\n",
       "   [0.]\n",
       "   [0.]\n",
       "   [0.]\n",
       "   [0.]\n",
       "   [0.]],\n",
       "  Quantum object: dims = [[2, 2, 2], [1, 1, 1]], shape = (8, 1), type = ket\n",
       "  Qobj data =\n",
       "  [[0.]\n",
       "   [1.]\n",
       "   [0.]\n",
       "   [0.]\n",
       "   [0.]\n",
       "   [0.]\n",
       "   [0.]\n",
       "   [0.]]],\n",
       " [0.4999999999999999, 0.4999999999999999])"
      ]
     },
     "execution_count": 11,
     "metadata": {},
     "output_type": "execute_result"
    }
   ],
   "source": [
    "final_measurement = Measurement(\"start\", targets=[2])\n",
    "final_measurement.measurement_comp_basis(state_final)"
   ]
  },
  {
   "cell_type": "markdown",
   "metadata": {},
   "source": [
    "### Example 2 \n",
    "#### $|q0 ⟩ = |1 ⟩$  "
   ]
  },
  {
   "cell_type": "code",
   "execution_count": 12,
   "metadata": {},
   "outputs": [
    {
     "data": {
      "text/plain": [
       "([None,\n",
       "  Quantum object: dims = [[2, 2, 2], [1, 1, 1]], shape = (8, 1), type = ket\n",
       "  Qobj data =\n",
       "  [[0.]\n",
       "   [0.]\n",
       "   [0.]\n",
       "   [0.]\n",
       "   [1.]\n",
       "   [0.]\n",
       "   [0.]\n",
       "   [0.]]],\n",
       " [0.0, 1.0])"
      ]
     },
     "execution_count": 12,
     "metadata": {},
     "output_type": "execute_result"
    }
   ],
   "source": [
    "state = tensor(basis(2,1), basis(2,0), basis(2,0))\n",
    "initial_measurement = Measurement(\"start\", targets=[0])\n",
    "initial_measurement.measurement_comp_basis(state)"
   ]
  },
  {
   "cell_type": "code",
   "execution_count": 13,
   "metadata": {
    "scrolled": true
   },
   "outputs": [
    {
     "name": "stdout",
     "output_type": "stream",
     "text": [
      "Quantum object: dims = [[2, 2, 2], [1, 1, 1]], shape = (8, 1), type = ket\n",
      "Qobj data =\n",
      "[[0.]\n",
      " [1.]\n",
      " [0.]\n",
      " [0.]\n",
      " [0.]\n",
      " [0.]\n",
      " [0.]\n",
      " [0.]]\n"
     ]
    }
   ],
   "source": [
    "state_final, probability = teleportation.run(state)\n",
    "print(state_final)"
   ]
  },
  {
   "cell_type": "code",
   "execution_count": 14,
   "metadata": {},
   "outputs": [
    {
     "data": {
      "text/plain": [
       "([None,\n",
       "  Quantum object: dims = [[2, 2, 2], [1, 1, 1]], shape = (8, 1), type = ket\n",
       "  Qobj data =\n",
       "  [[0.]\n",
       "   [1.]\n",
       "   [0.]\n",
       "   [0.]\n",
       "   [0.]\n",
       "   [0.]\n",
       "   [0.]\n",
       "   [0.]]],\n",
       " [0.0, 1.0])"
      ]
     },
     "execution_count": 14,
     "metadata": {},
     "output_type": "execute_result"
    }
   ],
   "source": [
    "final_measurement = Measurement(\"start\", targets=[2])\n",
    "final_measurement.measurement_comp_basis(state_final)"
   ]
  },
  {
   "cell_type": "markdown",
   "metadata": {},
   "source": [
    "Another useful feature of the circuit module is the **QubitCircuit.run_statistics()** feature which provides the opportunity to gather all the possible output states of the circuit along with their output probabilities. "
   ]
  },
  {
   "cell_type": "code",
   "execution_count": 15,
   "metadata": {},
   "outputs": [
    {
     "data": {
      "text/plain": [
       "([Quantum object: dims = [[2, 2, 2], [1, 1, 1]], shape = (8, 1), type = ket\n",
       "  Qobj data =\n",
       "  [[0.]\n",
       "   [1.]\n",
       "   [0.]\n",
       "   [0.]\n",
       "   [0.]\n",
       "   [0.]\n",
       "   [0.]\n",
       "   [0.]],\n",
       "  Quantum object: dims = [[2, 2, 2], [1, 1, 1]], shape = (8, 1), type = ket\n",
       "  Qobj data =\n",
       "  [[0.]\n",
       "   [0.]\n",
       "   [0.]\n",
       "   [1.]\n",
       "   [0.]\n",
       "   [0.]\n",
       "   [0.]\n",
       "   [0.]],\n",
       "  Quantum object: dims = [[2, 2, 2], [1, 1, 1]], shape = (8, 1), type = ket\n",
       "  Qobj data =\n",
       "  [[0.]\n",
       "   [0.]\n",
       "   [0.]\n",
       "   [0.]\n",
       "   [0.]\n",
       "   [1.]\n",
       "   [0.]\n",
       "   [0.]],\n",
       "  Quantum object: dims = [[2, 2, 2], [1, 1, 1]], shape = (8, 1), type = ket\n",
       "  Qobj data =\n",
       "  [[0.]\n",
       "   [0.]\n",
       "   [0.]\n",
       "   [0.]\n",
       "   [0.]\n",
       "   [0.]\n",
       "   [0.]\n",
       "   [1.]]],\n",
       " [0.24999999999999994,\n",
       "  0.24999999999999994,\n",
       "  0.24999999999999994,\n",
       "  0.24999999999999994])"
      ]
     },
     "execution_count": 15,
     "metadata": {},
     "output_type": "execute_result"
    }
   ],
   "source": [
    "teleportation.run_statistics(state)"
   ]
  },
  {
   "cell_type": "code",
   "execution_count": 16,
   "metadata": {},
   "outputs": [
    {
     "name": "stdout",
     "output_type": "stream",
     "text": [
      "\n",
      "QuTiP: Quantum Toolbox in Python\n",
      "================================\n",
      "Copyright (c) QuTiP team 2011 and later.\n",
      "Original developers: R. J. Johansson & P. D. Nation.\n",
      "Previous lead developers: Chris Granade & A. Grimsmo.\n",
      "Current admin team: Alexander Pitchford, Paul D. Nation, Nathan Shammah, Shahnawaz Ahmed, Neill Lambert, Eric Giguère, and Boxi Li\n",
      "Project Manager: Franco Nori.\n",
      "Currently developed through wide collaboration. See https://github.com/qutip for details.\n",
      "\n",
      "QuTiP Version:      4.6.0.dev0+980a0b7b\n",
      "Numpy Version:      1.17.0\n",
      "Scipy Version:      1.2.0\n",
      "Cython Version:     0.29.13\n",
      "Matplotlib Version: 3.1.1\n",
      "Python Version:     3.7.4\n",
      "Number of CPUs:     2\n",
      "BLAS Info:          OPENBLAS\n",
      "OPENMP Installed:   False\n",
      "INTEL MKL Ext:      False\n",
      "Platform Info:      Darwin (x86_64)\n",
      "Installation path:  /Users/sid/Documents/qutip_dev/qutip/qutip\n",
      "==============================================================================\n",
      "Please cite QuTiP in your publication.\n",
      "==============================================================================\n",
      "For your convenience a bibtex reference can be easily generated using `qutip.cite()`\n"
     ]
    }
   ],
   "source": [
    "from qutip import about\n",
    "about()"
   ]
  }
 ],
 "metadata": {
  "celltoolbar": "Raw Cell Format",
  "kernelspec": {
   "display_name": "Python 3",
   "language": "python",
   "name": "python3"
  },
  "language_info": {
   "codemirror_mode": {
    "name": "ipython",
    "version": 3
   },
   "file_extension": ".py",
   "mimetype": "text/x-python",
   "name": "python",
   "nbconvert_exporter": "python",
   "pygments_lexer": "ipython3",
   "version": "3.7.4"
  }
 },
 "nbformat": 4,
 "nbformat_minor": 2
}
