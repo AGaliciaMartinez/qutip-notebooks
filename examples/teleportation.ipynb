{
 "cells": [
  {
   "cell_type": "markdown",
   "metadata": {},
   "source": [
    "# Quantum Teleportation Circuit"
   ]
  },
  {
   "cell_type": "code",
   "execution_count": 1,
   "metadata": {},
   "outputs": [],
   "source": [
    "from qutip.qip.circuit import QubitCircuit, Measurement, Gate\n",
    "from qutip import basis, tensor, identity\n",
    "from math import sqrt\n",
    "from qutip.qip import measurement"
   ]
  },
  {
   "cell_type": "markdown",
   "metadata": {},
   "source": [
    "## Introduction \n",
    "\n",
    "This notebook introduces the basic quantum teleportation circuit (http://www.physics.udel.edu/~msafrono/425-2011/Lecture%2025-1.pdf), complete with measurements and classical control\n",
    "\n",
    "We will describe the circuit that enables teleportation below. "
   ]
  },
  {
   "cell_type": "markdown",
   "metadata": {
    "raw_mimetype": "text/latex"
   },
   "source": [
    "We will use two classical wires and three qubit wires. The first qubit wire represents the quantum state $| q0 ⟩ = | \\psi ⟩$ that needs to be transferred from Alice to Bob (so the first qubit is in the posession of Alice). "
   ]
  },
  {
   "cell_type": "code",
   "execution_count": 2,
   "metadata": {},
   "outputs": [],
   "source": [
    "teleportation = QubitCircuit(3, num_cbits = 2, input_states = [\"q0\", \"0\", \"0\", \"c0\", \"c1\"])"
   ]
  },
  {
   "cell_type": "markdown",
   "metadata": {},
   "source": [
    "First, Alice and Bob need to create the shared EPR pair ($\\frac{| 00 ⟩ + | 11 ⟩} {2}$) between the second and third qubit by using the hadamard gate on Alice's qubit followed by an entangling CNOT gate.  "
   ]
  },
  {
   "cell_type": "code",
   "execution_count": 3,
   "metadata": {},
   "outputs": [],
   "source": [
    "teleportation.add_gate(\"SNOT\", targets=[1])\n",
    "teleportation.add_gate(\"CNOT\", targets=[2], controls=[1])"
   ]
  },
  {
   "cell_type": "markdown",
   "metadata": {},
   "source": [
    "Following this, Alice interacts the qubit $| q0 ⟩$ with Alice's EPR qubit, followed by measuring on the two qubits belonging to Alice. The measurement results for the first qubit is stored in classical register $c0$ and the second qubit is stored in classical register $c1$."
   ]
  },
  {
   "cell_type": "code",
   "execution_count": 4,
   "metadata": {},
   "outputs": [],
   "source": [
    "teleportation.add_gate(\"CNOT\", targets=[1], controls=[0])\n",
    "teleportation.add_gate(\"SNOT\", targets=[0])\n",
    "\n",
    "teleportation.add_measurement(\"M0\", targets=[0], classical_store=0)\n",
    "teleportation.add_measurement(\"M1\", targets=[1], classical_store=1)"
   ]
  },
  {
   "cell_type": "markdown",
   "metadata": {},
   "source": [
    "Now, we apply the $X$ gate on Bob's qubit based on the classical control $c0$ and $Z$ gate based on classical control $c1$. These operations correspond to the following operations based on the state of Alice's measurement. \n",
    "\n",
    "$|00⟩ \\rightarrow $ no operation \\\n",
    "$|01⟩ \\rightarrow Z$ \\\n",
    "$|10⟩ \\rightarrow X$ \\\n",
    "$|11⟩ \\rightarrow ZX$ \n",
    "\n",
    "The final circuit mathematically must result in the third qubit taking the state $|\\psi⟩$. "
   ]
  },
  {
   "cell_type": "code",
   "execution_count": 5,
   "metadata": {},
   "outputs": [],
   "source": [
    "teleportation.add_gate(\"X\", targets=[2], classical_controls=[0])\n",
    "teleportation.add_gate(\"Z\", targets=[2], classical_controls=[1])"
   ]
  },
  {
   "cell_type": "markdown",
   "metadata": {},
   "source": [
    "Finally, our teleportation circuit is ready to run, we can view the circuit structure using the following command. "
   ]
  },
  {
   "cell_type": "code",
   "execution_count": 6,
   "metadata": {},
   "outputs": [
    {
     "data": {
      "image/png": "[encoded data removed]",
      "text/plain": [
       "<IPython.core.display.Image object>"
      ]
     },
     "execution_count": 6,
     "metadata": {},
     "output_type": "execute_result"
    }
   ],
   "source": [
    "teleportation.png"
   ]
  },
  {
   "cell_type": "markdown",
   "metadata": {},
   "source": [
    "The first qubit is user-specified $|q0 ⟩ = |\\psi ⟩$ and the other two must be $|0⟩$. \n",
    "\n",
    "### Example 1 \n",
    "#### $|q0 ⟩ = |+ ⟩$  "
   ]
  },
  {
   "cell_type": "code",
   "execution_count": 7,
   "metadata": {},
   "outputs": [],
   "source": [
    "a = 1/sqrt(2) * basis(2, 0) + 1/sqrt(2) * basis(2, 1)\n",
    "state = tensor(a, basis(2,0), basis(2,0))"
   ]
  },
  {
   "cell_type": "markdown",
   "metadata": {},
   "source": [
    "We can confirm our state is initialized correctly by observing the measurment statistics on the first qubit, follwed by which we run the circuit."
   ]
  },
  {
   "cell_type": "code",
   "execution_count": 8,
   "metadata": {},
   "outputs": [
    {
     "data": {
      "text/plain": [
       "([0.4999999999999999, 0.4999999999999999],\n",
       " [Quantum object: dims = [[2, 2, 2], [1, 1, 1]], shape = (8, 1), type = ket\n",
       "  Qobj data =\n",
       "  [[1.]\n",
       "   [0.]\n",
       "   [0.]\n",
       "   [0.]\n",
       "   [0.]\n",
       "   [0.]\n",
       "   [0.]\n",
       "   [0.]],\n",
       "  Quantum object: dims = [[2, 2, 2], [1, 1, 1]], shape = (8, 1), type = ket\n",
       "  Qobj data =\n",
       "  [[0.]\n",
       "   [0.]\n",
       "   [0.]\n",
       "   [0.]\n",
       "   [1.]\n",
       "   [0.]\n",
       "   [0.]\n",
       "   [0.]]])"
      ]
     },
     "execution_count": 8,
     "metadata": {},
     "output_type": "execute_result"
    }
   ],
   "source": [
    "initial_measurement = Measurement(\"start\", targets=[0])\n",
    "initial_measurement.measurement_comp_basis(state)"
   ]
  },
  {
   "cell_type": "markdown",
   "metadata": {},
   "source": [
    "We can run the circuit using the **QubitCircuit.run** function which provided the initial state-vector (or density matrix) initiates one run on the circuit (including sampling any intermediate measurements) and providing the final results (any classical bits can also be explicitly set using the argument **cbits**) "
   ]
  },
  {
   "cell_type": "code",
   "execution_count": 9,
   "metadata": {},
   "outputs": [],
   "source": [
    "state_final = teleportation.run(state)"
   ]
  },
  {
   "cell_type": "markdown",
   "metadata": {},
   "source": [
    "After running, we can see the measurement statistics on the last qubit to see that the qubit is teleported correctly. "
   ]
  },
  {
   "cell_type": "code",
   "execution_count": 10,
   "metadata": {},
   "outputs": [
    {
     "data": {
      "text/plain": [
       "([0.4999999999999999, 0.4999999999999999],\n",
       " [Quantum object: dims = [[2, 2, 2], [1, 1, 1]], shape = (8, 1), type = ket\n",
       "  Qobj data =\n",
       "  [[1.]\n",
       "   [0.]\n",
       "   [0.]\n",
       "   [0.]\n",
       "   [0.]\n",
       "   [0.]\n",
       "   [0.]\n",
       "   [0.]],\n",
       "  Quantum object: dims = [[2, 2, 2], [1, 1, 1]], shape = (8, 1), type = ket\n",
       "  Qobj data =\n",
       "  [[0.]\n",
       "   [1.]\n",
       "   [0.]\n",
       "   [0.]\n",
       "   [0.]\n",
       "   [0.]\n",
       "   [0.]\n",
       "   [0.]]])"
      ]
     },
     "execution_count": 10,
     "metadata": {},
     "output_type": "execute_result"
    }
   ],
   "source": [
    "final_measurement = Measurement(\"start\", targets=[2])\n",
    "final_measurement.measurement_comp_basis(state_final)"
   ]
  },
  {
   "cell_type": "markdown",
   "metadata": {},
   "source": [
    "### Example 2 \n",
    "#### $|q0 ⟩ = |1 ⟩$  "
   ]
  },
  {
   "cell_type": "code",
   "execution_count": 11,
   "metadata": {},
   "outputs": [
    {
     "data": {
      "text/plain": [
       "([0.0, 1.0],\n",
       " [None,\n",
       "  Quantum object: dims = [[2, 2, 2], [1, 1, 1]], shape = (8, 1), type = ket\n",
       "  Qobj data =\n",
       "  [[0.]\n",
       "   [0.]\n",
       "   [0.]\n",
       "   [0.]\n",
       "   [1.]\n",
       "   [0.]\n",
       "   [0.]\n",
       "   [0.]]])"
      ]
     },
     "execution_count": 11,
     "metadata": {},
     "output_type": "execute_result"
    }
   ],
   "source": [
    "state = tensor(basis(2,1), basis(2,0), basis(2,0))\n",
    "initial_measurement = Measurement(\"start\", targets=[0])\n",
    "initial_measurement.measurement_comp_basis(state)"
   ]
  },
  {
   "cell_type": "code",
   "execution_count": 12,
   "metadata": {},
   "outputs": [
    {
     "name": "stdout",
     "output_type": "stream",
     "text": [
      "Quantum object: dims = [[2, 2, 2], [1, 1, 1]], shape = (8, 1), type = ket\n",
      "Qobj data =\n",
      "[[0.]\n",
      " [0.]\n",
      " [0.]\n",
      " [0.]\n",
      " [0.]\n",
      " [0.]\n",
      " [0.]\n",
      " [1.]]\n"
     ]
    }
   ],
   "source": [
    "state_final = teleportation.run(state)\n",
    "print(state_final)"
   ]
  },
  {
   "cell_type": "code",
   "execution_count": 13,
   "metadata": {},
   "outputs": [
    {
     "data": {
      "text/plain": [
       "([0.0, 1.0],\n",
       " [None,\n",
       "  Quantum object: dims = [[2, 2, 2], [1, 1, 1]], shape = (8, 1), type = ket\n",
       "  Qobj data =\n",
       "  [[0.]\n",
       "   [0.]\n",
       "   [0.]\n",
       "   [0.]\n",
       "   [0.]\n",
       "   [0.]\n",
       "   [0.]\n",
       "   [1.]]])"
      ]
     },
     "execution_count": 13,
     "metadata": {},
     "output_type": "execute_result"
    }
   ],
   "source": [
    "final_measurement = Measurement(\"start\", targets=[2])\n",
    "final_measurement.measurement_comp_basis(state_final)"
   ]
  },
  {
   "cell_type": "markdown",
   "metadata": {},
   "source": [
    "Another useful feature of the circuit module is the **QubitCircuit.run_statistics()** feature which provides the opportunity to run the circuit an arbitrary number of times and groups the frequency of the output kets. Currently it only supports kets. The **num_runs** argument specifies the number of runs."
   ]
  },
  {
   "cell_type": "code",
   "execution_count": 14,
   "metadata": {},
   "outputs": [
    {
     "data": {
      "text/plain": [
       "[[Quantum object: dims = [[2, 2, 2], [1, 1, 1]], shape = (8, 1), type = ket\n",
       "  Qobj data =\n",
       "  [[ 0.]\n",
       "   [ 0.]\n",
       "   [ 0.]\n",
       "   [ 0.]\n",
       "   [-1.]\n",
       "   [ 0.]\n",
       "   [ 0.]\n",
       "   [ 0.]], 270],\n",
       " [Quantum object: dims = [[2, 2, 2], [1, 1, 1]], shape = (8, 1), type = ket\n",
       "  Qobj data =\n",
       "  [[0.]\n",
       "   [0.]\n",
       "   [0.]\n",
       "   [1.]\n",
       "   [0.]\n",
       "   [0.]\n",
       "   [0.]\n",
       "   [0.]], 245],\n",
       " [Quantum object: dims = [[2, 2, 2], [1, 1, 1]], shape = (8, 1), type = ket\n",
       "  Qobj data =\n",
       "  [[0.]\n",
       "   [0.]\n",
       "   [0.]\n",
       "   [0.]\n",
       "   [0.]\n",
       "   [0.]\n",
       "   [0.]\n",
       "   [1.]], 254],\n",
       " [Quantum object: dims = [[2, 2, 2], [1, 1, 1]], shape = (8, 1), type = ket\n",
       "  Qobj data =\n",
       "  [[0.]\n",
       "   [1.]\n",
       "   [0.]\n",
       "   [0.]\n",
       "   [0.]\n",
       "   [0.]\n",
       "   [0.]\n",
       "   [0.]], 255]]"
      ]
     },
     "execution_count": 14,
     "metadata": {},
     "output_type": "execute_result"
    }
   ],
   "source": [
    "teleportation.run_statistics(state, num_runs=1024)"
   ]
  },
  {
   "cell_type": "markdown",
   "metadata": {},
   "source": [
    "Also available is the measurement_statistics function which allows to perform a quantum mechanical measurment on the final state vector."
   ]
  },
  {
   "cell_type": "code",
   "execution_count": 15,
   "metadata": {},
   "outputs": [
    {
     "data": {
      "text/plain": [
       "(array([1., 1., 1., 1., 1., 1., 1., 1.]),\n",
       " array([Quantum object: dims = [[2, 2, 2], [1, 1, 1]], shape = (8, 1), type = ket\n",
       " Qobj data =\n",
       " [[1.]\n",
       "  [0.]\n",
       "  [0.]\n",
       "  [0.]\n",
       "  [0.]\n",
       "  [0.]\n",
       "  [0.]\n",
       "  [0.]],\n",
       "        Quantum object: dims = [[2, 2, 2], [1, 1, 1]], shape = (8, 1), type = ket\n",
       " Qobj data =\n",
       " [[0.]\n",
       "  [1.]\n",
       "  [0.]\n",
       "  [0.]\n",
       "  [0.]\n",
       "  [0.]\n",
       "  [0.]\n",
       "  [0.]],\n",
       "        Quantum object: dims = [[2, 2, 2], [1, 1, 1]], shape = (8, 1), type = ket\n",
       " Qobj data =\n",
       " [[0.]\n",
       "  [0.]\n",
       "  [1.]\n",
       "  [0.]\n",
       "  [0.]\n",
       "  [0.]\n",
       "  [0.]\n",
       "  [0.]],\n",
       "        Quantum object: dims = [[2, 2, 2], [1, 1, 1]], shape = (8, 1), type = ket\n",
       " Qobj data =\n",
       " [[0.]\n",
       "  [0.]\n",
       "  [0.]\n",
       "  [1.]\n",
       "  [0.]\n",
       "  [0.]\n",
       "  [0.]\n",
       "  [0.]],\n",
       "        Quantum object: dims = [[2, 2, 2], [1, 1, 1]], shape = (8, 1), type = ket\n",
       " Qobj data =\n",
       " [[0.]\n",
       "  [0.]\n",
       "  [0.]\n",
       "  [0.]\n",
       "  [1.]\n",
       "  [0.]\n",
       "  [0.]\n",
       "  [0.]],\n",
       "        Quantum object: dims = [[2, 2, 2], [1, 1, 1]], shape = (8, 1), type = ket\n",
       " Qobj data =\n",
       " [[0.]\n",
       "  [0.]\n",
       "  [0.]\n",
       "  [0.]\n",
       "  [0.]\n",
       "  [1.]\n",
       "  [0.]\n",
       "  [0.]],\n",
       "        Quantum object: dims = [[2, 2, 2], [1, 1, 1]], shape = (8, 1), type = ket\n",
       " Qobj data =\n",
       " [[0.]\n",
       "  [0.]\n",
       "  [0.]\n",
       "  [0.]\n",
       "  [0.]\n",
       "  [0.]\n",
       "  [1.]\n",
       "  [0.]],\n",
       "        Quantum object: dims = [[2, 2, 2], [1, 1, 1]], shape = (8, 1), type = ket\n",
       " Qobj data =\n",
       " [[0.]\n",
       "  [0.]\n",
       "  [0.]\n",
       "  [0.]\n",
       "  [0.]\n",
       "  [0.]\n",
       "  [0.]\n",
       "  [1.]]], dtype=object),\n",
       " [0, 0, 0, 0, 0, 0, 0, 1.0])"
      ]
     },
     "execution_count": 15,
     "metadata": {},
     "output_type": "execute_result"
    }
   ],
   "source": [
    "measurement.measurement_statistics(tensor(identity(2), identity(2), identity(2)), state_final)"
   ]
  }
 ],
 "metadata": {
  "celltoolbar": "Raw Cell Format",
  "kernelspec": {
   "display_name": "Python 3",
   "language": "python",
   "name": "python3"
  },
  "language_info": {
   "codemirror_mode": {
    "name": "ipython",
    "version": 3
   },
   "file_extension": ".py",
   "mimetype": "text/x-python",
   "name": "python",
   "nbconvert_exporter": "python",
   "pygments_lexer": "ipython3",
   "version": "3.7.4"
  }
 },
 "nbformat": 4,
 "nbformat_minor": 2
}
