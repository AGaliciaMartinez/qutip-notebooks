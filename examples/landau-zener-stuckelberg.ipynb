{
 "cells": [
  {
   "cell_type": "markdown",
   "metadata": {},
   "source": [
    "# QuTiP example: Landau-Zener-Stuckelberg inteferometry"
   ]
  },
  {
   "cell_type": "markdown",
   "metadata": {},
   "source": [
    "J.R. Johansson and P.D. Nation\n",
    "\n",
    "For more information about QuTiP see [http://qutip.org](http://qutip.org)"
   ]
  },
  {
   "cell_type": "code",
   "execution_count": 1,
   "metadata": {},
   "outputs": [],
   "source": [
    "%matplotlib inline"
   ]
  },
  {
   "cell_type": "code",
   "execution_count": 2,
   "metadata": {},
   "outputs": [],
   "source": [
    "import matplotlib.pyplot as plt"
   ]
  },
  {
   "cell_type": "code",
   "execution_count": 3,
   "metadata": {},
   "outputs": [],
   "source": [
    "import numpy as np"
   ]
  },
  {
   "cell_type": "code",
   "execution_count": 4,
   "metadata": {},
   "outputs": [],
   "source": [
    "from qutip import *\n",
    "from qutip.ui.progressbar import TextProgressBar as ProgressBar\n",
    "%load_ext autoreload\n",
    "%autoreload 2"
   ]
  },
  {
   "cell_type": "markdown",
   "metadata": {},
   "source": [
    "Landau-Zener-Stuckelberg interferometry: Steady state of a strongly driven two-level system, using the one-period propagator. "
   ]
  },
  {
   "cell_type": "code",
   "execution_count": 5,
   "metadata": {},
   "outputs": [],
   "source": [
    "# set up the parameters and start calculation\n",
    "delta  = 1.0  * 2 * np.pi  # qubit sigma_x coefficient\n",
    "w      = 2.0  * 2 * np.pi  # driving frequency\n",
    "T      = 2 * np.pi / w     # driving period \n",
    "gamma1 = 0.00001        # relaxation rate\n",
    "gamma2 = 0.005          # dephasing  rate\n",
    "\n",
    "eps_list = np.linspace(-20.0, 20.0, 101) * 2 * np.pi\n",
    "A_list   = np.linspace(  0.0, 20.0, 101) * 2 * np.pi\n",
    "\n",
    "# pre-calculate the necessary operators\n",
    "sx = sigmax(); sz = sigmaz(); sm = destroy(2); sn = num(2)\n",
    "\n",
    "# collapse operators\n",
    "c_op_list = [np.sqrt(gamma1) * sm, np.sqrt(gamma2) * sz]  # relaxation and dephasing"
   ]
  },
  {
   "cell_type": "code",
   "execution_count": 6,
   "metadata": {},
   "outputs": [],
   "source": [
    "# ODE settings (for list-str format)\n",
    "options = Options()\n",
    "options.atol = 1e-6 # reduce accuracy to speed\n",
    "options.rtol = 1e-5 # up the calculation a bit\n",
    "options.rhs_reuse = True # Compile Hamiltonian only the first time."
   ]
  },
  {
   "cell_type": "code",
   "execution_count": 7,
   "metadata": {},
   "outputs": [],
   "source": [
    "# perform the calculation for each combination of eps and A, store the result\n",
    "# in a matrix\n",
    "def calculate():\n",
    "\n",
    "    p_mat = np.zeros((len(eps_list), len(A_list)))\n",
    "    \n",
    "    H0 = - delta/2.0 * sx \n",
    "    \n",
    "    H1 = - sz/2 \n",
    "    # Function method\n",
    "#     H1 = [H1, lambda t, args: args['eps'] ]\n",
    "    # String method\n",
    "    H1 = [H1, 'eps']\n",
    "    \n",
    "    H2 = sz/2\n",
    "    # Function method\n",
    "#     H2 = [H2, lambda t, args: args['A']*np.sin(args['w'] * t)]\n",
    "    # String method\n",
    "    H2 = [H2, 'A * sin(w * t)']\n",
    "    \n",
    "    H = [H0, H1, H2]\n",
    "    \n",
    "    pbar = ProgressBar(len(eps_list))\n",
    "    for m, eps in enumerate(eps_list):\n",
    "        pbar.update(m)\n",
    "        for n, A in enumerate(A_list):\n",
    "            args = {'w': w, 'A': A, 'eps': eps}\n",
    "\n",
    "            U = propagator(H, T, c_op_list, args, options=options)\n",
    "            rho_ss = propagator_steadystate(U)\n",
    "\n",
    "            p_mat[m,n] = np.real(expect(sn, rho_ss))\n",
    "\n",
    "    return p_mat"
   ]
  },
  {
   "cell_type": "code",
   "execution_count": null,
   "metadata": {},
   "outputs": [
    {
     "name": "stdout",
     "output_type": "stream",
     "text": [
      "10.9%. Run time:   9.79s. Est. time left: 00:00:01:20\n",
      "20.8%. Run time:  15.03s. Est. time left: 00:00:00:57\n",
      "30.7%. Run time:  19.92s. Est. time left: 00:00:00:44\n",
      "40.6%. Run time:  24.37s. Est. time left: 00:00:00:35\n"
     ]
    }
   ],
   "source": [
    "p_mat = calculate()"
   ]
  },
  {
   "cell_type": "code",
   "execution_count": null,
   "metadata": {},
   "outputs": [],
   "source": [
    "fig, ax = plt.subplots(figsize=(8, 8))\n",
    "\n",
    "A_mat, eps_mat = np.meshgrid(A_list/(2*np.pi), eps_list/(2*np.pi))\n",
    "\n",
    "ax.pcolor(eps_mat, A_mat, p_mat)\n",
    "ax.set_xlabel(r'Bias point $\\epsilon$')\n",
    "ax.set_ylabel(r'Amplitude $A$')\n",
    "ax.set_title(\"Steadystate excitation probability\\n\" +\n",
    "             r'$H = -\\frac{1}{2}\\Delta\\sigma_x -\\frac{1}{2}\\epsilon\\sigma_z - \\frac{1}{2}A\\sin(\\omega t)$' + \"\\n\");"
   ]
  },
  {
   "cell_type": "markdown",
   "metadata": {},
   "source": [
    "## Versions"
   ]
  },
  {
   "cell_type": "code",
   "execution_count": null,
   "metadata": {},
   "outputs": [],
   "source": [
    "from qutip.ipynbtools import version_table\n",
    "\n",
    "version_table()"
   ]
  }
 ],
 "metadata": {
  "kernelspec": {
   "display_name": "Python 3 (ipykernel)",
   "language": "python",
   "name": "python3"
  },
  "language_info": {
   "codemirror_mode": {
    "name": "ipython",
    "version": 3
   },
   "file_extension": ".py",
   "mimetype": "text/x-python",
   "name": "python",
   "nbconvert_exporter": "python",
   "pygments_lexer": "ipython3",
   "version": "3.9.5"
  }
 },
 "nbformat": 4,
 "nbformat_minor": 1
}
